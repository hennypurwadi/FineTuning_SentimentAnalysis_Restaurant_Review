{
  "cells": [
    {
      "cell_type": "markdown",
      "metadata": {
        "id": "main-title"
      },
      "source": [
        "## **Fine-tuned the DistilBERT model using the European Restaurant Reviews dataset, for Sentiment Analysis**\n",
        "\n",
        "## Project Overview\n",
        "This notebook demonstrates how to fine-tune a DistilBERT model for sentiment analysis using European restaurant reviews. The complete process will be from data loading to model evaluation, and proper handling of class imbalance, and overfitting prevention.\n",
        "\n",
        "- **Dataset**: European Restaurant Reviews with positive/negative sentiments\n",
        "- **Model**: DistilBERT (Distilled BERT) for efficient training\n",
        "- **Techniques**: Class weighting, early stopping, dropout regularization\n",
        "- **Evaluation**: Comprehensive metrics and visualization\n",
        "\n",
        "*   List item\n",
        "*   List item\n",
        "\n"
      ]
    },
    {
      "cell_type": "markdown",
      "metadata": {
        "id": "section-0"
      },
      "source": [
        "## 1. Environment Setup\n",
        "\n",
        "### 1.1 Dataset Information"
      ]
    },
    {
      "cell_type": "markdown",
      "metadata": {
        "id": "YMyU0TadB9gS"
      },
      "source": [
        "## European Restaurant Reviews\n",
        "Reviews of various European restaurants by customers.\n",
        "\n",
        "Dataset\n",
        "European Restaurant Reviews dataset from Kaggle containing customer reviews for various restaurants, divided into positive and negative sentiments.\n",
        "\n",
        "**Dataset URL**: https://www.kaggle.com/datasets/gorororororo23/european-restaurant-reviews"
      ]
    },
    {
      "cell_type": "markdown",
      "metadata": {
        "id": "section-1"
      },
      "source": [
        "### 1.2 Mount Google Drive"
      ]
    },
    {
      "cell_type": "code",
      "metadata": {
        "id": "aUJGzhh7CY3U",
        "colab": {
          "base_uri": "https://localhost:8080/"
        },
        "outputId": "4c723a80-6037-4d2e-8968-b7263c372908"
      },
      "source": [
        "from google.colab import drive\n",
        "drive.mount('drive')"
      ],
      "execution_count": null,
      "outputs": [
        {
          "output_type": "stream",
          "name": "stdout",
          "text": [
            "Mounted at drive\n"
          ]
        }
      ]
    },
    {
      "cell_type": "markdown",
      "metadata": {
        "id": "section-2"
      },
      "source": [
        "### 1.3 Install Required Dependencies"
      ]
    },
    {
      "cell_type": "code",
      "metadata": {
        "id": "lnewEdPLHbnl",
        "colab": {
          "base_uri": "https://localhost:8080/"
        },
        "outputId": "baa065f7-02f6-41ce-ab9c-a51a05f8a716"
      },
      "source": [
        "!pip install --upgrade transformers"
      ],
      "execution_count": null,
      "outputs": [
        {
          "output_type": "stream",
          "name": "stdout",
          "text": [
            "Requirement already satisfied: transformers in /usr/local/lib/python3.11/dist-packages (4.52.4)\n",
            "Requirement already satisfied: filelock in /usr/local/lib/python3.11/dist-packages (from transformers) (3.18.0)\n",
            "Requirement already satisfied: huggingface-hub<1.0,>=0.30.0 in /usr/local/lib/python3.11/dist-packages (from transformers) (0.33.0)\n",
            "Requirement already satisfied: numpy>=1.17 in /usr/local/lib/python3.11/dist-packages (from transformers) (2.0.2)\n",
            "Requirement already satisfied: packaging>=20.0 in /usr/local/lib/python3.11/dist-packages (from transformers) (24.2)\n",
            "Requirement already satisfied: pyyaml>=5.1 in /usr/local/lib/python3.11/dist-packages (from transformers) (6.0.2)\n",
            "Requirement already satisfied: regex!=2019.12.17 in /usr/local/lib/python3.11/dist-packages (from transformers) (2024.11.6)\n",
            "Requirement already satisfied: requests in /usr/local/lib/python3.11/dist-packages (from transformers) (2.32.3)\n",
            "Requirement already satisfied: tokenizers<0.22,>=0.21 in /usr/local/lib/python3.11/dist-packages (from transformers) (0.21.1)\n",
            "Requirement already satisfied: safetensors>=0.4.3 in /usr/local/lib/python3.11/dist-packages (from transformers) (0.5.3)\n",
            "Requirement already satisfied: tqdm>=4.27 in /usr/local/lib/python3.11/dist-packages (from transformers) (4.67.1)\n",
            "Requirement already satisfied: fsspec>=2023.5.0 in /usr/local/lib/python3.11/dist-packages (from huggingface-hub<1.0,>=0.30.0->transformers) (2025.3.2)\n",
            "Requirement already satisfied: typing-extensions>=3.7.4.3 in /usr/local/lib/python3.11/dist-packages (from huggingface-hub<1.0,>=0.30.0->transformers) (4.14.0)\n",
            "Requirement already satisfied: hf-xet<2.0.0,>=1.1.2 in /usr/local/lib/python3.11/dist-packages (from huggingface-hub<1.0,>=0.30.0->transformers) (1.1.3)\n",
            "Requirement already satisfied: charset-normalizer<4,>=2 in /usr/local/lib/python3.11/dist-packages (from requests->transformers) (3.4.2)\n",
            "Requirement already satisfied: idna<4,>=2.5 in /usr/local/lib/python3.11/dist-packages (from requests->transformers) (3.10)\n",
            "Requirement already satisfied: urllib3<3,>=1.21.1 in /usr/local/lib/python3.11/dist-packages (from requests->transformers) (2.4.0)\n",
            "Requirement already satisfied: certifi>=2017.4.17 in /usr/local/lib/python3.11/dist-packages (from requests->transformers) (2025.6.15)\n"
          ]
        }
      ]
    },
    {
      "cell_type": "markdown",
      "metadata": {
        "id": "section-3"
      },
      "source": [
        "### 1.4 Import Required Libraries\n",
        "This section imports all necessary libraries for data processing, machine learning, and deep learning operations.\n",
        "\n",
        "**Library Categories:**\n",
        "- **Data Processing**: pandas, numpy for data manipulation\n",
        "- **Visualization**: matplotlib, seaborn for plotting\n",
        "- **NLP**: nltk, wordcloud for text processing\n",
        "- **Machine Learning**: scikit-learn for traditional ML algorithms and metrics\n",
        "- **Deep Learning**: transformers, torch for BERT fine-tuning\n",
        "- **Utilities**: warnings, os for environment management"
      ]
    },
    {
      "cell_type": "code",
      "metadata": {
        "id": "B9WFYKAeB9gU",
        "colab": {
          "base_uri": "https://localhost:8080/"
        },
        "outputId": "6c8e4ae7-2c85-48bf-e6c2-7841c7cc77a5"
      },
      "source": [
        "import pandas as pd\n",
        "import matplotlib.pyplot as plt\n",
        "import numpy as np\n",
        "import seaborn as sns\n",
        "pd.set_option('display.max_colwidth', 160)\n",
        "\n",
        "# Natural Language Processing (NLP)\n",
        "import nltk\n",
        "from wordcloud import WordCloud\n",
        "nltk.download('punkt_tab')\n",
        "#nltk.download('wordnet')\n",
        "\n",
        "# Scikit-learn\n",
        "from sklearn.model_selection import train_test_split, cross_val_score\n",
        "from sklearn.pipeline import Pipeline\n",
        "from sklearn.feature_extraction.text import CountVectorizer, TfidfVectorizer\n",
        "from sklearn.naive_bayes import BernoulliNB, MultinomialNB\n",
        "from sklearn.linear_model import LogisticRegression\n",
        "from sklearn.svm import LinearSVC, SVC\n",
        "from sklearn.preprocessing import LabelEncoder\n",
        "from sklearn.metrics import classification_report, confusion_matrix, accuracy_score\n",
        "from sklearn import metrics\n",
        "\n",
        "from transformers import (\n",
        "    TrainerCallback, Trainer, TrainingArguments,\n",
        "    EarlyStoppingCallback, DistilBertForSequenceClassification,\n",
        "    DistilBertConfig\n",
        ")\n",
        "\n",
        "import joblib\n",
        "import pickle\n",
        "from imblearn.over_sampling import SMOTE\n",
        "\n",
        "import torch\n",
        "from transformers import DistilBertTokenizer, DistilBertForSequenceClassification, Trainer, TrainingArguments,TrainerCallback\n",
        "from sklearn.preprocessing import LabelEncoder\n",
        "from sklearn.model_selection import train_test_split\n",
        "from sklearn.metrics import classification_report\n",
        "from sklearn.metrics import accuracy_score, precision_recall_fscore_support, confusion_matrix\n",
        "import matplotlib.pyplot as plt\n",
        "from torch.utils.data import DataLoader, Dataset, WeightedRandomSampler\n",
        "\n",
        "# Suppress warnings\n",
        "import warnings\n",
        "warnings.filterwarnings(\"ignore\")"
      ],
      "execution_count": null,
      "outputs": [
        {
          "output_type": "stream",
          "name": "stderr",
          "text": [
            "[nltk_data] Downloading package punkt_tab to /root/nltk_data...\n",
            "[nltk_data]   Unzipping tokenizers/punkt_tab.zip.\n"
          ]
        }
      ]
    },
    {
      "cell_type": "markdown",
      "metadata": {
        "id": "section-4"
      },
      "source": [
        "### 1.5 Check Working Directory\n",
        "Verify the current working directory to ensure proper file path references."
      ]
    },
    {
      "cell_type": "code",
      "metadata": {
        "id": "xS7zbSyHB9gV",
        "colab": {
          "base_uri": "https://localhost:8080/"
        },
        "outputId": "8464356f-e6d7-4dca-9385-def6b802600e"
      },
      "source": [
        "import os\n",
        "# Disable wandb to avoid authentication issues\n",
        "os.environ[\"WANDB_DISABLED\"] = \"true\"\n",
        "print(os.getcwd())"
      ],
      "execution_count": null,
      "outputs": [
        {
          "output_type": "stream",
          "name": "stdout",
          "text": [
            "/content\n"
          ]
        }
      ]
    },
    {
      "cell_type": "markdown",
      "metadata": {
        "id": "section-5"
      },
      "source": [
        "## 2. Data Loading and Exploration\n",
        "\n",
        "### 2.1 Load the Dataset\n",
        "Load the European Restaurant Reviews dataset from Google Drive. This dataset contains customer reviews with sentiment labels (Positive/Negative).\n",
        "\n",
        "**Dataset Structure:**\n",
        "- **Country**: Location of the restaurant\n",
        "- **Restaurant Name**: Name of the reviewed restaurant\n",
        "- **Sentiment**: Target variable (Positive/Negative)\n",
        "- **Review Title**: Short title of the review\n",
        "- **Review Date**: When the review was posted\n",
        "- **Review**: Full text of the customer review (our main feature)"
      ]
    },
    {
      "cell_type": "code",
      "metadata": {
        "id": "YimjfPHCB9gW",
        "colab": {
          "base_uri": "https://localhost:8080/",
          "height": 112
        },
        "outputId": "05e54b4d-7536-4678-a878-a19df5386244"
      },
      "source": [
        "# Read CSV file\n",
        "df = pd.read_csv('/content/drive/MyDrive/FineTuning_Embedding_SentimentAnalysis-main/data/EuropeanRestaurantReviews.csv')\n",
        "df.head(2)"
      ],
      "execution_count": null,
      "outputs": [
        {
          "output_type": "execute_result",
          "data": {
            "text/plain": [
              "  Country            Restaurant Name Sentiment          Review Title  \\\n",
              "0  France  The Frog at Bercy Village  Negative          Rude manager   \n",
              "1  France  The Frog at Bercy Village  Negative  A big disappointment   \n",
              "\n",
              "  Review Date  \\\n",
              "0  May 2024 •   \n",
              "1  Feb 2024 •   \n",
              "\n",
              "                                                                                                                                                            Review  \n",
              "0               The manager became agressive when I said the carbonara was not good. She was rude. It was  a very bad experience. The worst in Rome in many years.  \n",
              "1  I ordered a beef fillet ask to be done medium, I got it well done cooked and very dry, when I told them they took the steak and after 20 minutes they brough...  "
            ],
            "text/html": [
              "\n",
              "  <div id=\"df-712b0e06-2a98-4f86-9b7b-7ab999e43237\" class=\"colab-df-container\">\n",
              "    <div>\n",
              "<style scoped>\n",
              "    .dataframe tbody tr th:only-of-type {\n",
              "        vertical-align: middle;\n",
              "    }\n",
              "\n",
              "    .dataframe tbody tr th {\n",
              "        vertical-align: top;\n",
              "    }\n",
              "\n",
              "    .dataframe thead th {\n",
              "        text-align: right;\n",
              "    }\n",
              "</style>\n",
              "<table border=\"1\" class=\"dataframe\">\n",
              "  <thead>\n",
              "    <tr style=\"text-align: right;\">\n",
              "      <th></th>\n",
              "      <th>Country</th>\n",
              "      <th>Restaurant Name</th>\n",
              "      <th>Sentiment</th>\n",
              "      <th>Review Title</th>\n",
              "      <th>Review Date</th>\n",
              "      <th>Review</th>\n",
              "    </tr>\n",
              "  </thead>\n",
              "  <tbody>\n",
              "    <tr>\n",
              "      <th>0</th>\n",
              "      <td>France</td>\n",
              "      <td>The Frog at Bercy Village</td>\n",
              "      <td>Negative</td>\n",
              "      <td>Rude manager</td>\n",
              "      <td>May 2024 •</td>\n",
              "      <td>The manager became agressive when I said the carbonara was not good. She was rude. It was  a very bad experience. The worst in Rome in many years.</td>\n",
              "    </tr>\n",
              "    <tr>\n",
              "      <th>1</th>\n",
              "      <td>France</td>\n",
              "      <td>The Frog at Bercy Village</td>\n",
              "      <td>Negative</td>\n",
              "      <td>A big disappointment</td>\n",
              "      <td>Feb 2024 •</td>\n",
              "      <td>I ordered a beef fillet ask to be done medium, I got it well done cooked and very dry, when I told them they took the steak and after 20 minutes they brough...</td>\n",
              "    </tr>\n",
              "  </tbody>\n",
              "</table>\n",
              "</div>\n",
              "    <div class=\"colab-df-buttons\">\n",
              "\n",
              "  <div class=\"colab-df-container\">\n",
              "    <button class=\"colab-df-convert\" onclick=\"convertToInteractive('df-712b0e06-2a98-4f86-9b7b-7ab999e43237')\"\n",
              "            title=\"Convert this dataframe to an interactive table.\"\n",
              "            style=\"display:none;\">\n",
              "\n",
              "  <svg xmlns=\"http://www.w3.org/2000/svg\" height=\"24px\" viewBox=\"0 -960 960 960\">\n",
              "    <path d=\"M120-120v-720h720v720H120Zm60-500h600v-160H180v160Zm220 220h160v-160H400v160Zm0 220h160v-160H400v160ZM180-400h160v-160H180v160Zm440 0h160v-160H620v160ZM180-180h160v-160H180v160Zm440 0h160v-160H620v160Z\"/>\n",
              "  </svg>\n",
              "    </button>\n",
              "\n",
              "  <style>\n",
              "    .colab-df-container {\n",
              "      display:flex;\n",
              "      gap: 12px;\n",
              "    }\n",
              "\n",
              "    .colab-df-convert {\n",
              "      background-color: #E8F0FE;\n",
              "      border: none;\n",
              "      border-radius: 50%;\n",
              "      cursor: pointer;\n",
              "      display: none;\n",
              "      fill: #1967D2;\n",
              "      height: 32px;\n",
              "      padding: 0 0 0 0;\n",
              "      width: 32px;\n",
              "    }\n",
              "\n",
              "    .colab-df-convert:hover {\n",
              "      background-color: #E2EBFA;\n",
              "      box-shadow: 0px 1px 2px rgba(60, 64, 67, 0.3), 0px 1px 3px 1px rgba(60, 64, 67, 0.15);\n",
              "      fill: #174EA6;\n",
              "    }\n",
              "\n",
              "    .colab-df-buttons div {\n",
              "      margin-bottom: 4px;\n",
              "    }\n",
              "\n",
              "    [theme=dark] .colab-df-convert {\n",
              "      background-color: #3B4455;\n",
              "      fill: #D2E3FC;\n",
              "    }\n",
              "\n",
              "    [theme=dark] .colab-df-convert:hover {\n",
              "      background-color: #434B5C;\n",
              "      box-shadow: 0px 1px 3px 1px rgba(0, 0, 0, 0.15);\n",
              "      filter: drop-shadow(0px 1px 2px rgba(0, 0, 0, 0.3));\n",
              "      fill: #FFFFFF;\n",
              "    }\n",
              "  </style>\n",
              "\n",
              "    <script>\n",
              "      const buttonEl =\n",
              "        document.querySelector('#df-712b0e06-2a98-4f86-9b7b-7ab999e43237 button.colab-df-convert');\n",
              "      buttonEl.style.display =\n",
              "        google.colab.kernel.accessAllowed ? 'block' : 'none';\n",
              "\n",
              "      async function convertToInteractive(key) {\n",
              "        const element = document.querySelector('#df-712b0e06-2a98-4f86-9b7b-7ab999e43237');\n",
              "        const dataTable =\n",
              "          await google.colab.kernel.invokeFunction('convertToInteractive',\n",
              "                                                    [key], {});\n",
              "        if (!dataTable) return;\n",
              "\n",
              "        const docLinkHtml = 'Like what you see? Visit the ' +\n",
              "          '<a target=\"_blank\" href=https://colab.research.google.com/notebooks/data_table.ipynb>data table notebook</a>'\n",
              "          + ' to learn more about interactive tables.';\n",
              "        element.innerHTML = '';\n",
              "        dataTable['output_type'] = 'display_data';\n",
              "        await google.colab.output.renderOutput(dataTable, element);\n",
              "        const docLink = document.createElement('div');\n",
              "        docLink.innerHTML = docLinkHtml;\n",
              "        element.appendChild(docLink);\n",
              "      }\n",
              "    </script>\n",
              "  </div>\n",
              "\n",
              "\n",
              "    <div id=\"df-b1c8a3fb-ad5c-4ecf-bf1a-6f98a2667405\">\n",
              "      <button class=\"colab-df-quickchart\" onclick=\"quickchart('df-b1c8a3fb-ad5c-4ecf-bf1a-6f98a2667405')\"\n",
              "                title=\"Suggest charts\"\n",
              "                style=\"display:none;\">\n",
              "\n",
              "<svg xmlns=\"http://www.w3.org/2000/svg\" height=\"24px\"viewBox=\"0 0 24 24\"\n",
              "     width=\"24px\">\n",
              "    <g>\n",
              "        <path d=\"M19 3H5c-1.1 0-2 .9-2 2v14c0 1.1.9 2 2 2h14c1.1 0 2-.9 2-2V5c0-1.1-.9-2-2-2zM9 17H7v-7h2v7zm4 0h-2V7h2v10zm4 0h-2v-4h2v4z\"/>\n",
              "    </g>\n",
              "</svg>\n",
              "      </button>\n",
              "\n",
              "<style>\n",
              "  .colab-df-quickchart {\n",
              "      --bg-color: #E8F0FE;\n",
              "      --fill-color: #1967D2;\n",
              "      --hover-bg-color: #E2EBFA;\n",
              "      --hover-fill-color: #174EA6;\n",
              "      --disabled-fill-color: #AAA;\n",
              "      --disabled-bg-color: #DDD;\n",
              "  }\n",
              "\n",
              "  [theme=dark] .colab-df-quickchart {\n",
              "      --bg-color: #3B4455;\n",
              "      --fill-color: #D2E3FC;\n",
              "      --hover-bg-color: #434B5C;\n",
              "      --hover-fill-color: #FFFFFF;\n",
              "      --disabled-bg-color: #3B4455;\n",
              "      --disabled-fill-color: #666;\n",
              "  }\n",
              "\n",
              "  .colab-df-quickchart {\n",
              "    background-color: var(--bg-color);\n",
              "    border: none;\n",
              "    border-radius: 50%;\n",
              "    cursor: pointer;\n",
              "    display: none;\n",
              "    fill: var(--fill-color);\n",
              "    height: 32px;\n",
              "    padding: 0;\n",
              "    width: 32px;\n",
              "  }\n",
              "\n",
              "  .colab-df-quickchart:hover {\n",
              "    background-color: var(--hover-bg-color);\n",
              "    box-shadow: 0 1px 2px rgba(60, 64, 67, 0.3), 0 1px 3px 1px rgba(60, 64, 67, 0.15);\n",
              "    fill: var(--button-hover-fill-color);\n",
              "  }\n",
              "\n",
              "  .colab-df-quickchart-complete:disabled,\n",
              "  .colab-df-quickchart-complete:disabled:hover {\n",
              "    background-color: var(--disabled-bg-color);\n",
              "    fill: var(--disabled-fill-color);\n",
              "    box-shadow: none;\n",
              "  }\n",
              "\n",
              "  .colab-df-spinner {\n",
              "    border: 2px solid var(--fill-color);\n",
              "    border-color: transparent;\n",
              "    border-bottom-color: var(--fill-color);\n",
              "    animation:\n",
              "      spin 1s steps(1) infinite;\n",
              "  }\n",
              "\n",
              "  @keyframes spin {\n",
              "    0% {\n",
              "      border-color: transparent;\n",
              "      border-bottom-color: var(--fill-color);\n",
              "      border-left-color: var(--fill-color);\n",
              "    }\n",
              "    20% {\n",
              "      border-color: transparent;\n",
              "      border-left-color: var(--fill-color);\n",
              "      border-top-color: var(--fill-color);\n",
              "    }\n",
              "    30% {\n",
              "      border-color: transparent;\n",
              "      border-left-color: var(--fill-color);\n",
              "      border-top-color: var(--fill-color);\n",
              "      border-right-color: var(--fill-color);\n",
              "    }\n",
              "    40% {\n",
              "      border-color: transparent;\n",
              "      border-right-color: var(--fill-color);\n",
              "      border-top-color: var(--fill-color);\n",
              "    }\n",
              "    60% {\n",
              "      border-color: transparent;\n",
              "      border-right-color: var(--fill-color);\n",
              "    }\n",
              "    80% {\n",
              "      border-color: transparent;\n",
              "      border-right-color: var(--fill-color);\n",
              "      border-bottom-color: var(--fill-color);\n",
              "    }\n",
              "    90% {\n",
              "      border-color: transparent;\n",
              "      border-bottom-color: var(--fill-color);\n",
              "    }\n",
              "  }\n",
              "</style>\n",
              "\n",
              "      <script>\n",
              "        async function quickchart(key) {\n",
              "          const quickchartButtonEl =\n",
              "            document.querySelector('#' + key + ' button');\n",
              "          quickchartButtonEl.disabled = true;  // To prevent multiple clicks.\n",
              "          quickchartButtonEl.classList.add('colab-df-spinner');\n",
              "          try {\n",
              "            const charts = await google.colab.kernel.invokeFunction(\n",
              "                'suggestCharts', [key], {});\n",
              "          } catch (error) {\n",
              "            console.error('Error during call to suggestCharts:', error);\n",
              "          }\n",
              "          quickchartButtonEl.classList.remove('colab-df-spinner');\n",
              "          quickchartButtonEl.classList.add('colab-df-quickchart-complete');\n",
              "        }\n",
              "        (() => {\n",
              "          let quickchartButtonEl =\n",
              "            document.querySelector('#df-b1c8a3fb-ad5c-4ecf-bf1a-6f98a2667405 button');\n",
              "          quickchartButtonEl.style.display =\n",
              "            google.colab.kernel.accessAllowed ? 'block' : 'none';\n",
              "        })();\n",
              "      </script>\n",
              "    </div>\n",
              "\n",
              "    </div>\n",
              "  </div>\n"
            ],
            "application/vnd.google.colaboratory.intrinsic+json": {
              "type": "dataframe",
              "variable_name": "df",
              "summary": "{\n  \"name\": \"df\",\n  \"rows\": 1502,\n  \"fields\": [\n    {\n      \"column\": \"Country\",\n      \"properties\": {\n        \"dtype\": \"category\",\n        \"num_unique_values\": 7,\n        \"samples\": [\n          \"France\",\n          \"Italy\",\n          \"Morroco\"\n        ],\n        \"semantic_type\": \"\",\n        \"description\": \"\"\n      }\n    },\n    {\n      \"column\": \"Restaurant Name\",\n      \"properties\": {\n        \"dtype\": \"category\",\n        \"num_unique_values\": 7,\n        \"samples\": [\n          \"The Frog at Bercy Village\",\n          \"Ad Hoc Ristorante (Piazza del Popolo)\",\n          \"The LOFT\"\n        ],\n        \"semantic_type\": \"\",\n        \"description\": \"\"\n      }\n    },\n    {\n      \"column\": \"Sentiment\",\n      \"properties\": {\n        \"dtype\": \"category\",\n        \"num_unique_values\": 2,\n        \"samples\": [\n          \"Positive\",\n          \"Negative\"\n        ],\n        \"semantic_type\": \"\",\n        \"description\": \"\"\n      }\n    },\n    {\n      \"column\": \"Review Title\",\n      \"properties\": {\n        \"dtype\": \"string\",\n        \"num_unique_values\": 1343,\n        \"samples\": [\n          \"Travelling around the world\",\n          \"Last Night in Rome\"\n        ],\n        \"semantic_type\": \"\",\n        \"description\": \"\"\n      }\n    },\n    {\n      \"column\": \"Review Date\",\n      \"properties\": {\n        \"dtype\": \"category\",\n        \"num_unique_values\": 143,\n        \"samples\": [\n          \"Jan 2016 \\u2022\",\n          \"Aug 2017 \\u2022\"\n        ],\n        \"semantic_type\": \"\",\n        \"description\": \"\"\n      }\n    },\n    {\n      \"column\": \"Review\",\n      \"properties\": {\n        \"dtype\": \"string\",\n        \"num_unique_values\": 1426,\n        \"samples\": [\n          \"It was just a SHAME!\\n\\nWe waited for our starters for almost one hour! Just because they told us they were cutting by hand our Salumi, including Serrano Ham. I come from Spain, where, in quarter an hour you can have at least 6 traies of fresh-cut serrano ham!!! and when we told tthe waitress how slow they were she replied as if we where the guilty ones who had chosen that starter and knew how long it took it to prepare it! (on top of that the ham wasn`t even good)\\nMoreover it took us half an hour to have the bill!!\\nFor God`s sake! I really encourage you not to go there!!!\",\n          \"Best meal we had in essaouira. Friendly staff, food was delicious en very cosy/nice decorated! We would definitely come back.\"\n        ],\n        \"semantic_type\": \"\",\n        \"description\": \"\"\n      }\n    }\n  ]\n}"
            }
          },
          "metadata": {},
          "execution_count": 5
        }
      ]
    },
    {
      "cell_type": "markdown",
      "metadata": {
        "id": "section-6"
      },
      "source": [
        "### 2.2 Dataset Size\n",
        "Check the total number of records in our dataset."
      ]
    },
    {
      "cell_type": "code",
      "metadata": {
        "id": "PWj0rPvMB9gX",
        "colab": {
          "base_uri": "https://localhost:8080/"
        },
        "outputId": "3f3c5622-6d8f-4ffb-d7c0-03e9609a0595"
      },
      "source": [
        "len(df)"
      ],
      "execution_count": null,
      "outputs": [
        {
          "output_type": "execute_result",
          "data": {
            "text/plain": [
              "1502"
            ]
          },
          "metadata": {},
          "execution_count": 6
        }
      ]
    },
    {
      "cell_type": "markdown",
      "metadata": {
        "id": "section-doc-15"
      },
      "source": [
        "### 2.5 Data Quality Check\n",
        "Examine the dataset for missing values, duplicates, and data quality issues."
      ]
    },
    {
      "cell_type": "markdown",
      "metadata": {
        "id": "section-7"
      },
      "source": [
        "### 2.3 Column Information\n",
        "Examine the column names and structure of our dataset."
      ]
    },
    {
      "cell_type": "code",
      "metadata": {
        "id": "Yi38QOTZB9gX",
        "colab": {
          "base_uri": "https://localhost:8080/"
        },
        "outputId": "bf142507-abe3-433c-f39d-b878775b15f3"
      },
      "source": [
        "df.columns"
      ],
      "execution_count": null,
      "outputs": [
        {
          "output_type": "execute_result",
          "data": {
            "text/plain": [
              "Index(['Country', 'Restaurant Name', 'Sentiment', 'Review Title',\n",
              "       'Review Date', 'Review'],\n",
              "      dtype='object')"
            ]
          },
          "metadata": {},
          "execution_count": 7
        }
      ]
    },
    {
      "cell_type": "markdown",
      "metadata": {
        "id": "section-8"
      },
      "source": [
        "### 2.4 Data Preprocessing\n",
        "Clean column names by removing spaces for easier handling in code."
      ]
    },
    {
      "cell_type": "code",
      "metadata": {
        "id": "MUuOhU7XB9gY"
      },
      "source": [
        "df = df.rename(columns={'Review Title': 'ReviewTitle'})\n",
        "df = df.rename(columns={'Restaurant Name': 'RestaurantName'})\n",
        "df = df.rename(columns={'Review Date': 'ReviewDate'})"
      ],
      "execution_count": null,
      "outputs": []
    },
    {
      "cell_type": "code",
      "metadata": {
        "id": "OgdkLMeUB9gY",
        "colab": {
          "base_uri": "https://localhost:8080/",
          "height": 244
        },
        "outputId": "67540c83-3e69-4dc3-c4d9-b1d8d954c092"
      },
      "source": [
        "# Map sentiment labels to numerical values\n",
        "df['Label'] = df['Sentiment'].map({'Positive': 1,'Negative': 0,})\n",
        "df.iloc[128:132]"
      ],
      "execution_count": null,
      "outputs": [
        {
          "output_type": "execute_result",
          "data": {
            "text/plain": [
              "    Country             RestaurantName Sentiment  \\\n",
              "128  France  The Frog at Bercy Village  Negative   \n",
              "129  France  The Frog at Bercy Village  Negative   \n",
              "130  France  The Frog at Bercy Village  Negative   \n",
              "131  France  The Frog at Bercy Village  Negative   \n",
              "\n",
              "                              ReviewTitle  ReviewDate  \\\n",
              "128                Overrated and touristy  Mar 2024 •   \n",
              "129  Bad tasting food difficult to digest  Oct 2023 •   \n",
              "130                Pretty dissappointing.  Feb 2022 •   \n",
              "131                                 Sorry  Feb 2012 •   \n",
              "\n",
              "                                                                                                                                                              Review  \\\n",
              "128  Unfortunately the food was just average. No dish was really convincing. The greeting from the kitchen was okay but not a highlight in terms of taste.\\n\\nThe...   \n",
              "129  We didn't like the food that much.\\n\\nThe starters were tasteless\\n\\nand hard to digest.\\n\\nThe pasta was nothing special.\\n\\nThe main course was cooked for...   \n",
              "130  I actually never write reviews for the restaurants, but for this one i just had to. The reason we decided to check this place out was only because of high r...   \n",
              "131  I'm afraid we were very let down by this restaurant.\\nWe were left standing at the door for 5 minutes before being seated. We decided on the tasting menu fo...   \n",
              "\n",
              "     Label  \n",
              "128      0  \n",
              "129      0  \n",
              "130      0  \n",
              "131      0  "
            ],
            "text/html": [
              "\n",
              "  <div id=\"df-5b1259b2-d8b4-4ee7-8512-c49701356a67\" class=\"colab-df-container\">\n",
              "    <div>\n",
              "<style scoped>\n",
              "    .dataframe tbody tr th:only-of-type {\n",
              "        vertical-align: middle;\n",
              "    }\n",
              "\n",
              "    .dataframe tbody tr th {\n",
              "        vertical-align: top;\n",
              "    }\n",
              "\n",
              "    .dataframe thead th {\n",
              "        text-align: right;\n",
              "    }\n",
              "</style>\n",
              "<table border=\"1\" class=\"dataframe\">\n",
              "  <thead>\n",
              "    <tr style=\"text-align: right;\">\n",
              "      <th></th>\n",
              "      <th>Country</th>\n",
              "      <th>RestaurantName</th>\n",
              "      <th>Sentiment</th>\n",
              "      <th>ReviewTitle</th>\n",
              "      <th>ReviewDate</th>\n",
              "      <th>Review</th>\n",
              "      <th>Label</th>\n",
              "    </tr>\n",
              "  </thead>\n",
              "  <tbody>\n",
              "    <tr>\n",
              "      <th>128</th>\n",
              "      <td>France</td>\n",
              "      <td>The Frog at Bercy Village</td>\n",
              "      <td>Negative</td>\n",
              "      <td>Overrated and touristy</td>\n",
              "      <td>Mar 2024 •</td>\n",
              "      <td>Unfortunately the food was just average. No dish was really convincing. The greeting from the kitchen was okay but not a highlight in terms of taste.\\n\\nThe...</td>\n",
              "      <td>0</td>\n",
              "    </tr>\n",
              "    <tr>\n",
              "      <th>129</th>\n",
              "      <td>France</td>\n",
              "      <td>The Frog at Bercy Village</td>\n",
              "      <td>Negative</td>\n",
              "      <td>Bad tasting food difficult to digest</td>\n",
              "      <td>Oct 2023 •</td>\n",
              "      <td>We didn't like the food that much.\\n\\nThe starters were tasteless\\n\\nand hard to digest.\\n\\nThe pasta was nothing special.\\n\\nThe main course was cooked for...</td>\n",
              "      <td>0</td>\n",
              "    </tr>\n",
              "    <tr>\n",
              "      <th>130</th>\n",
              "      <td>France</td>\n",
              "      <td>The Frog at Bercy Village</td>\n",
              "      <td>Negative</td>\n",
              "      <td>Pretty dissappointing.</td>\n",
              "      <td>Feb 2022 •</td>\n",
              "      <td>I actually never write reviews for the restaurants, but for this one i just had to. The reason we decided to check this place out was only because of high r...</td>\n",
              "      <td>0</td>\n",
              "    </tr>\n",
              "    <tr>\n",
              "      <th>131</th>\n",
              "      <td>France</td>\n",
              "      <td>The Frog at Bercy Village</td>\n",
              "      <td>Negative</td>\n",
              "      <td>Sorry</td>\n",
              "      <td>Feb 2012 •</td>\n",
              "      <td>I'm afraid we were very let down by this restaurant.\\nWe were left standing at the door for 5 minutes before being seated. We decided on the tasting menu fo...</td>\n",
              "      <td>0</td>\n",
              "    </tr>\n",
              "  </tbody>\n",
              "</table>\n",
              "</div>\n",
              "    <div class=\"colab-df-buttons\">\n",
              "\n",
              "  <div class=\"colab-df-container\">\n",
              "    <button class=\"colab-df-convert\" onclick=\"convertToInteractive('df-5b1259b2-d8b4-4ee7-8512-c49701356a67')\"\n",
              "            title=\"Convert this dataframe to an interactive table.\"\n",
              "            style=\"display:none;\">\n",
              "\n",
              "  <svg xmlns=\"http://www.w3.org/2000/svg\" height=\"24px\" viewBox=\"0 -960 960 960\">\n",
              "    <path d=\"M120-120v-720h720v720H120Zm60-500h600v-160H180v160Zm220 220h160v-160H400v160Zm0 220h160v-160H400v160ZM180-400h160v-160H180v160Zm440 0h160v-160H620v160ZM180-180h160v-160H180v160Zm440 0h160v-160H620v160Z\"/>\n",
              "  </svg>\n",
              "    </button>\n",
              "\n",
              "  <style>\n",
              "    .colab-df-container {\n",
              "      display:flex;\n",
              "      gap: 12px;\n",
              "    }\n",
              "\n",
              "    .colab-df-convert {\n",
              "      background-color: #E8F0FE;\n",
              "      border: none;\n",
              "      border-radius: 50%;\n",
              "      cursor: pointer;\n",
              "      display: none;\n",
              "      fill: #1967D2;\n",
              "      height: 32px;\n",
              "      padding: 0 0 0 0;\n",
              "      width: 32px;\n",
              "    }\n",
              "\n",
              "    .colab-df-convert:hover {\n",
              "      background-color: #E2EBFA;\n",
              "      box-shadow: 0px 1px 2px rgba(60, 64, 67, 0.3), 0px 1px 3px 1px rgba(60, 64, 67, 0.15);\n",
              "      fill: #174EA6;\n",
              "    }\n",
              "\n",
              "    .colab-df-buttons div {\n",
              "      margin-bottom: 4px;\n",
              "    }\n",
              "\n",
              "    [theme=dark] .colab-df-convert {\n",
              "      background-color: #3B4455;\n",
              "      fill: #D2E3FC;\n",
              "    }\n",
              "\n",
              "    [theme=dark] .colab-df-convert:hover {\n",
              "      background-color: #434B5C;\n",
              "      box-shadow: 0px 1px 3px 1px rgba(0, 0, 0, 0.15);\n",
              "      filter: drop-shadow(0px 1px 2px rgba(0, 0, 0, 0.3));\n",
              "      fill: #FFFFFF;\n",
              "    }\n",
              "  </style>\n",
              "\n",
              "    <script>\n",
              "      const buttonEl =\n",
              "        document.querySelector('#df-5b1259b2-d8b4-4ee7-8512-c49701356a67 button.colab-df-convert');\n",
              "      buttonEl.style.display =\n",
              "        google.colab.kernel.accessAllowed ? 'block' : 'none';\n",
              "\n",
              "      async function convertToInteractive(key) {\n",
              "        const element = document.querySelector('#df-5b1259b2-d8b4-4ee7-8512-c49701356a67');\n",
              "        const dataTable =\n",
              "          await google.colab.kernel.invokeFunction('convertToInteractive',\n",
              "                                                    [key], {});\n",
              "        if (!dataTable) return;\n",
              "\n",
              "        const docLinkHtml = 'Like what you see? Visit the ' +\n",
              "          '<a target=\"_blank\" href=https://colab.research.google.com/notebooks/data_table.ipynb>data table notebook</a>'\n",
              "          + ' to learn more about interactive tables.';\n",
              "        element.innerHTML = '';\n",
              "        dataTable['output_type'] = 'display_data';\n",
              "        await google.colab.output.renderOutput(dataTable, element);\n",
              "        const docLink = document.createElement('div');\n",
              "        docLink.innerHTML = docLinkHtml;\n",
              "        element.appendChild(docLink);\n",
              "      }\n",
              "    </script>\n",
              "  </div>\n",
              "\n",
              "\n",
              "    <div id=\"df-cfb661a5-2d4e-449a-a808-5e53b620794c\">\n",
              "      <button class=\"colab-df-quickchart\" onclick=\"quickchart('df-cfb661a5-2d4e-449a-a808-5e53b620794c')\"\n",
              "                title=\"Suggest charts\"\n",
              "                style=\"display:none;\">\n",
              "\n",
              "<svg xmlns=\"http://www.w3.org/2000/svg\" height=\"24px\"viewBox=\"0 0 24 24\"\n",
              "     width=\"24px\">\n",
              "    <g>\n",
              "        <path d=\"M19 3H5c-1.1 0-2 .9-2 2v14c0 1.1.9 2 2 2h14c1.1 0 2-.9 2-2V5c0-1.1-.9-2-2-2zM9 17H7v-7h2v7zm4 0h-2V7h2v10zm4 0h-2v-4h2v4z\"/>\n",
              "    </g>\n",
              "</svg>\n",
              "      </button>\n",
              "\n",
              "<style>\n",
              "  .colab-df-quickchart {\n",
              "      --bg-color: #E8F0FE;\n",
              "      --fill-color: #1967D2;\n",
              "      --hover-bg-color: #E2EBFA;\n",
              "      --hover-fill-color: #174EA6;\n",
              "      --disabled-fill-color: #AAA;\n",
              "      --disabled-bg-color: #DDD;\n",
              "  }\n",
              "\n",
              "  [theme=dark] .colab-df-quickchart {\n",
              "      --bg-color: #3B4455;\n",
              "      --fill-color: #D2E3FC;\n",
              "      --hover-bg-color: #434B5C;\n",
              "      --hover-fill-color: #FFFFFF;\n",
              "      --disabled-bg-color: #3B4455;\n",
              "      --disabled-fill-color: #666;\n",
              "  }\n",
              "\n",
              "  .colab-df-quickchart {\n",
              "    background-color: var(--bg-color);\n",
              "    border: none;\n",
              "    border-radius: 50%;\n",
              "    cursor: pointer;\n",
              "    display: none;\n",
              "    fill: var(--fill-color);\n",
              "    height: 32px;\n",
              "    padding: 0;\n",
              "    width: 32px;\n",
              "  }\n",
              "\n",
              "  .colab-df-quickchart:hover {\n",
              "    background-color: var(--hover-bg-color);\n",
              "    box-shadow: 0 1px 2px rgba(60, 64, 67, 0.3), 0 1px 3px 1px rgba(60, 64, 67, 0.15);\n",
              "    fill: var(--button-hover-fill-color);\n",
              "  }\n",
              "\n",
              "  .colab-df-quickchart-complete:disabled,\n",
              "  .colab-df-quickchart-complete:disabled:hover {\n",
              "    background-color: var(--disabled-bg-color);\n",
              "    fill: var(--disabled-fill-color);\n",
              "    box-shadow: none;\n",
              "  }\n",
              "\n",
              "  .colab-df-spinner {\n",
              "    border: 2px solid var(--fill-color);\n",
              "    border-color: transparent;\n",
              "    border-bottom-color: var(--fill-color);\n",
              "    animation:\n",
              "      spin 1s steps(1) infinite;\n",
              "  }\n",
              "\n",
              "  @keyframes spin {\n",
              "    0% {\n",
              "      border-color: transparent;\n",
              "      border-bottom-color: var(--fill-color);\n",
              "      border-left-color: var(--fill-color);\n",
              "    }\n",
              "    20% {\n",
              "      border-color: transparent;\n",
              "      border-left-color: var(--fill-color);\n",
              "      border-top-color: var(--fill-color);\n",
              "    }\n",
              "    30% {\n",
              "      border-color: transparent;\n",
              "      border-left-color: var(--fill-color);\n",
              "      border-top-color: var(--fill-color);\n",
              "      border-right-color: var(--fill-color);\n",
              "    }\n",
              "    40% {\n",
              "      border-color: transparent;\n",
              "      border-right-color: var(--fill-color);\n",
              "      border-top-color: var(--fill-color);\n",
              "    }\n",
              "    60% {\n",
              "      border-color: transparent;\n",
              "      border-right-color: var(--fill-color);\n",
              "    }\n",
              "    80% {\n",
              "      border-color: transparent;\n",
              "      border-right-color: var(--fill-color);\n",
              "      border-bottom-color: var(--fill-color);\n",
              "    }\n",
              "    90% {\n",
              "      border-color: transparent;\n",
              "      border-bottom-color: var(--fill-color);\n",
              "    }\n",
              "  }\n",
              "</style>\n",
              "\n",
              "      <script>\n",
              "        async function quickchart(key) {\n",
              "          const quickchartButtonEl =\n",
              "            document.querySelector('#' + key + ' button');\n",
              "          quickchartButtonEl.disabled = true;  // To prevent multiple clicks.\n",
              "          quickchartButtonEl.classList.add('colab-df-spinner');\n",
              "          try {\n",
              "            const charts = await google.colab.kernel.invokeFunction(\n",
              "                'suggestCharts', [key], {});\n",
              "          } catch (error) {\n",
              "            console.error('Error during call to suggestCharts:', error);\n",
              "          }\n",
              "          quickchartButtonEl.classList.remove('colab-df-spinner');\n",
              "          quickchartButtonEl.classList.add('colab-df-quickchart-complete');\n",
              "        }\n",
              "        (() => {\n",
              "          let quickchartButtonEl =\n",
              "            document.querySelector('#df-cfb661a5-2d4e-449a-a808-5e53b620794c button');\n",
              "          quickchartButtonEl.style.display =\n",
              "            google.colab.kernel.accessAllowed ? 'block' : 'none';\n",
              "        })();\n",
              "      </script>\n",
              "    </div>\n",
              "\n",
              "    </div>\n",
              "  </div>\n"
            ],
            "application/vnd.google.colaboratory.intrinsic+json": {
              "type": "dataframe",
              "summary": "{\n  \"name\": \"df\",\n  \"rows\": 4,\n  \"fields\": [\n    {\n      \"column\": \"Country\",\n      \"properties\": {\n        \"dtype\": \"category\",\n        \"num_unique_values\": 1,\n        \"samples\": [\n          \"France\"\n        ],\n        \"semantic_type\": \"\",\n        \"description\": \"\"\n      }\n    },\n    {\n      \"column\": \"RestaurantName\",\n      \"properties\": {\n        \"dtype\": \"category\",\n        \"num_unique_values\": 1,\n        \"samples\": [\n          \"The Frog at Bercy Village\"\n        ],\n        \"semantic_type\": \"\",\n        \"description\": \"\"\n      }\n    },\n    {\n      \"column\": \"Sentiment\",\n      \"properties\": {\n        \"dtype\": \"category\",\n        \"num_unique_values\": 1,\n        \"samples\": [\n          \"Negative\"\n        ],\n        \"semantic_type\": \"\",\n        \"description\": \"\"\n      }\n    },\n    {\n      \"column\": \"ReviewTitle\",\n      \"properties\": {\n        \"dtype\": \"string\",\n        \"num_unique_values\": 4,\n        \"samples\": [\n          \"Bad tasting food difficult to digest\"\n        ],\n        \"semantic_type\": \"\",\n        \"description\": \"\"\n      }\n    },\n    {\n      \"column\": \"ReviewDate\",\n      \"properties\": {\n        \"dtype\": \"string\",\n        \"num_unique_values\": 4,\n        \"samples\": [\n          \"Oct 2023 \\u2022\"\n        ],\n        \"semantic_type\": \"\",\n        \"description\": \"\"\n      }\n    },\n    {\n      \"column\": \"Review\",\n      \"properties\": {\n        \"dtype\": \"string\",\n        \"num_unique_values\": 4,\n        \"samples\": [\n          \"We didn't like the food that much.\\n\\nThe starters were tasteless\\n\\nand hard to digest.\\n\\nThe pasta was nothing special.\\n\\nThe main course was cooked for too long.\\n\\nThe dessert was too creamy.\\n\\nOverall, the food was nice to look at\\n\\nbut lacked finesse in terms of taste.\\n\\nWe didn't like the food at all and therefore had a restless night\"\n        ],\n        \"semantic_type\": \"\",\n        \"description\": \"\"\n      }\n    },\n    {\n      \"column\": \"Label\",\n      \"properties\": {\n        \"dtype\": \"number\",\n        \"std\": 0,\n        \"min\": 0,\n        \"max\": 0,\n        \"num_unique_values\": 1,\n        \"samples\": [\n          0\n        ],\n        \"semantic_type\": \"\",\n        \"description\": \"\"\n      }\n    }\n  ]\n}"
            }
          },
          "metadata": {},
          "execution_count": 9
        }
      ]
    },
    {
      "cell_type": "markdown",
      "metadata": {
        "id": "section-doc-20"
      },
      "source": [
        "## 3. Exploratory Data Analysis\n",
        "\n",
        "### 3.1 Sentiment Distribution\n",
        "Analyze the distribution of positive and negative sentiments in our dataset to understand class balance."
      ]
    },
    {
      "cell_type": "code",
      "metadata": {
        "id": "7ybD6AoOB9gY",
        "colab": {
          "base_uri": "https://localhost:8080/",
          "height": 147
        },
        "outputId": "48b1759b-997e-49a6-fb39-1f5c571258b9"
      },
      "source": [
        "# Combine the ReviewTitle and Review columns into a single 'combined' column\n",
        "df[\"Combined\"] = (df.ReviewTitle.str.strip() + df.Review.str.strip())\n",
        "df.head(2)"
      ],
      "execution_count": null,
      "outputs": [
        {
          "output_type": "execute_result",
          "data": {
            "text/plain": [
              "  Country             RestaurantName Sentiment           ReviewTitle  \\\n",
              "0  France  The Frog at Bercy Village  Negative          Rude manager   \n",
              "1  France  The Frog at Bercy Village  Negative  A big disappointment   \n",
              "\n",
              "   ReviewDate  \\\n",
              "0  May 2024 •   \n",
              "1  Feb 2024 •   \n",
              "\n",
              "                                                                                                                                                            Review  \\\n",
              "0               The manager became agressive when I said the carbonara was not good. She was rude. It was  a very bad experience. The worst in Rome in many years.   \n",
              "1  I ordered a beef fillet ask to be done medium, I got it well done cooked and very dry, when I told them they took the steak and after 20 minutes they brough...   \n",
              "\n",
              "   Label  \\\n",
              "0      0   \n",
              "1      0   \n",
              "\n",
              "                                                                                                                                                          Combined  \n",
              "0   Rude managerThe manager became agressive when I said the carbonara was not good. She was rude. It was  a very bad experience. The worst in Rome in many years.  \n",
              "1  A big disappointmentI ordered a beef fillet ask to be done medium, I got it well done cooked and very dry, when I told them they took the steak and after 20...  "
            ],
            "text/html": [
              "\n",
              "  <div id=\"df-47ad5519-be89-416c-a9ae-41d2cea59585\" class=\"colab-df-container\">\n",
              "    <div>\n",
              "<style scoped>\n",
              "    .dataframe tbody tr th:only-of-type {\n",
              "        vertical-align: middle;\n",
              "    }\n",
              "\n",
              "    .dataframe tbody tr th {\n",
              "        vertical-align: top;\n",
              "    }\n",
              "\n",
              "    .dataframe thead th {\n",
              "        text-align: right;\n",
              "    }\n",
              "</style>\n",
              "<table border=\"1\" class=\"dataframe\">\n",
              "  <thead>\n",
              "    <tr style=\"text-align: right;\">\n",
              "      <th></th>\n",
              "      <th>Country</th>\n",
              "      <th>RestaurantName</th>\n",
              "      <th>Sentiment</th>\n",
              "      <th>ReviewTitle</th>\n",
              "      <th>ReviewDate</th>\n",
              "      <th>Review</th>\n",
              "      <th>Label</th>\n",
              "      <th>Combined</th>\n",
              "    </tr>\n",
              "  </thead>\n",
              "  <tbody>\n",
              "    <tr>\n",
              "      <th>0</th>\n",
              "      <td>France</td>\n",
              "      <td>The Frog at Bercy Village</td>\n",
              "      <td>Negative</td>\n",
              "      <td>Rude manager</td>\n",
              "      <td>May 2024 •</td>\n",
              "      <td>The manager became agressive when I said the carbonara was not good. She was rude. It was  a very bad experience. The worst in Rome in many years.</td>\n",
              "      <td>0</td>\n",
              "      <td>Rude managerThe manager became agressive when I said the carbonara was not good. She was rude. It was  a very bad experience. The worst in Rome in many years.</td>\n",
              "    </tr>\n",
              "    <tr>\n",
              "      <th>1</th>\n",
              "      <td>France</td>\n",
              "      <td>The Frog at Bercy Village</td>\n",
              "      <td>Negative</td>\n",
              "      <td>A big disappointment</td>\n",
              "      <td>Feb 2024 •</td>\n",
              "      <td>I ordered a beef fillet ask to be done medium, I got it well done cooked and very dry, when I told them they took the steak and after 20 minutes they brough...</td>\n",
              "      <td>0</td>\n",
              "      <td>A big disappointmentI ordered a beef fillet ask to be done medium, I got it well done cooked and very dry, when I told them they took the steak and after 20...</td>\n",
              "    </tr>\n",
              "  </tbody>\n",
              "</table>\n",
              "</div>\n",
              "    <div class=\"colab-df-buttons\">\n",
              "\n",
              "  <div class=\"colab-df-container\">\n",
              "    <button class=\"colab-df-convert\" onclick=\"convertToInteractive('df-47ad5519-be89-416c-a9ae-41d2cea59585')\"\n",
              "            title=\"Convert this dataframe to an interactive table.\"\n",
              "            style=\"display:none;\">\n",
              "\n",
              "  <svg xmlns=\"http://www.w3.org/2000/svg\" height=\"24px\" viewBox=\"0 -960 960 960\">\n",
              "    <path d=\"M120-120v-720h720v720H120Zm60-500h600v-160H180v160Zm220 220h160v-160H400v160Zm0 220h160v-160H400v160ZM180-400h160v-160H180v160Zm440 0h160v-160H620v160ZM180-180h160v-160H180v160Zm440 0h160v-160H620v160Z\"/>\n",
              "  </svg>\n",
              "    </button>\n",
              "\n",
              "  <style>\n",
              "    .colab-df-container {\n",
              "      display:flex;\n",
              "      gap: 12px;\n",
              "    }\n",
              "\n",
              "    .colab-df-convert {\n",
              "      background-color: #E8F0FE;\n",
              "      border: none;\n",
              "      border-radius: 50%;\n",
              "      cursor: pointer;\n",
              "      display: none;\n",
              "      fill: #1967D2;\n",
              "      height: 32px;\n",
              "      padding: 0 0 0 0;\n",
              "      width: 32px;\n",
              "    }\n",
              "\n",
              "    .colab-df-convert:hover {\n",
              "      background-color: #E2EBFA;\n",
              "      box-shadow: 0px 1px 2px rgba(60, 64, 67, 0.3), 0px 1px 3px 1px rgba(60, 64, 67, 0.15);\n",
              "      fill: #174EA6;\n",
              "    }\n",
              "\n",
              "    .colab-df-buttons div {\n",
              "      margin-bottom: 4px;\n",
              "    }\n",
              "\n",
              "    [theme=dark] .colab-df-convert {\n",
              "      background-color: #3B4455;\n",
              "      fill: #D2E3FC;\n",
              "    }\n",
              "\n",
              "    [theme=dark] .colab-df-convert:hover {\n",
              "      background-color: #434B5C;\n",
              "      box-shadow: 0px 1px 3px 1px rgba(0, 0, 0, 0.15);\n",
              "      filter: drop-shadow(0px 1px 2px rgba(0, 0, 0, 0.3));\n",
              "      fill: #FFFFFF;\n",
              "    }\n",
              "  </style>\n",
              "\n",
              "    <script>\n",
              "      const buttonEl =\n",
              "        document.querySelector('#df-47ad5519-be89-416c-a9ae-41d2cea59585 button.colab-df-convert');\n",
              "      buttonEl.style.display =\n",
              "        google.colab.kernel.accessAllowed ? 'block' : 'none';\n",
              "\n",
              "      async function convertToInteractive(key) {\n",
              "        const element = document.querySelector('#df-47ad5519-be89-416c-a9ae-41d2cea59585');\n",
              "        const dataTable =\n",
              "          await google.colab.kernel.invokeFunction('convertToInteractive',\n",
              "                                                    [key], {});\n",
              "        if (!dataTable) return;\n",
              "\n",
              "        const docLinkHtml = 'Like what you see? Visit the ' +\n",
              "          '<a target=\"_blank\" href=https://colab.research.google.com/notebooks/data_table.ipynb>data table notebook</a>'\n",
              "          + ' to learn more about interactive tables.';\n",
              "        element.innerHTML = '';\n",
              "        dataTable['output_type'] = 'display_data';\n",
              "        await google.colab.output.renderOutput(dataTable, element);\n",
              "        const docLink = document.createElement('div');\n",
              "        docLink.innerHTML = docLinkHtml;\n",
              "        element.appendChild(docLink);\n",
              "      }\n",
              "    </script>\n",
              "  </div>\n",
              "\n",
              "\n",
              "    <div id=\"df-5d53dcd9-210c-4868-8bb8-1f139d7534d5\">\n",
              "      <button class=\"colab-df-quickchart\" onclick=\"quickchart('df-5d53dcd9-210c-4868-8bb8-1f139d7534d5')\"\n",
              "                title=\"Suggest charts\"\n",
              "                style=\"display:none;\">\n",
              "\n",
              "<svg xmlns=\"http://www.w3.org/2000/svg\" height=\"24px\"viewBox=\"0 0 24 24\"\n",
              "     width=\"24px\">\n",
              "    <g>\n",
              "        <path d=\"M19 3H5c-1.1 0-2 .9-2 2v14c0 1.1.9 2 2 2h14c1.1 0 2-.9 2-2V5c0-1.1-.9-2-2-2zM9 17H7v-7h2v7zm4 0h-2V7h2v10zm4 0h-2v-4h2v4z\"/>\n",
              "    </g>\n",
              "</svg>\n",
              "      </button>\n",
              "\n",
              "<style>\n",
              "  .colab-df-quickchart {\n",
              "      --bg-color: #E8F0FE;\n",
              "      --fill-color: #1967D2;\n",
              "      --hover-bg-color: #E2EBFA;\n",
              "      --hover-fill-color: #174EA6;\n",
              "      --disabled-fill-color: #AAA;\n",
              "      --disabled-bg-color: #DDD;\n",
              "  }\n",
              "\n",
              "  [theme=dark] .colab-df-quickchart {\n",
              "      --bg-color: #3B4455;\n",
              "      --fill-color: #D2E3FC;\n",
              "      --hover-bg-color: #434B5C;\n",
              "      --hover-fill-color: #FFFFFF;\n",
              "      --disabled-bg-color: #3B4455;\n",
              "      --disabled-fill-color: #666;\n",
              "  }\n",
              "\n",
              "  .colab-df-quickchart {\n",
              "    background-color: var(--bg-color);\n",
              "    border: none;\n",
              "    border-radius: 50%;\n",
              "    cursor: pointer;\n",
              "    display: none;\n",
              "    fill: var(--fill-color);\n",
              "    height: 32px;\n",
              "    padding: 0;\n",
              "    width: 32px;\n",
              "  }\n",
              "\n",
              "  .colab-df-quickchart:hover {\n",
              "    background-color: var(--hover-bg-color);\n",
              "    box-shadow: 0 1px 2px rgba(60, 64, 67, 0.3), 0 1px 3px 1px rgba(60, 64, 67, 0.15);\n",
              "    fill: var(--button-hover-fill-color);\n",
              "  }\n",
              "\n",
              "  .colab-df-quickchart-complete:disabled,\n",
              "  .colab-df-quickchart-complete:disabled:hover {\n",
              "    background-color: var(--disabled-bg-color);\n",
              "    fill: var(--disabled-fill-color);\n",
              "    box-shadow: none;\n",
              "  }\n",
              "\n",
              "  .colab-df-spinner {\n",
              "    border: 2px solid var(--fill-color);\n",
              "    border-color: transparent;\n",
              "    border-bottom-color: var(--fill-color);\n",
              "    animation:\n",
              "      spin 1s steps(1) infinite;\n",
              "  }\n",
              "\n",
              "  @keyframes spin {\n",
              "    0% {\n",
              "      border-color: transparent;\n",
              "      border-bottom-color: var(--fill-color);\n",
              "      border-left-color: var(--fill-color);\n",
              "    }\n",
              "    20% {\n",
              "      border-color: transparent;\n",
              "      border-left-color: var(--fill-color);\n",
              "      border-top-color: var(--fill-color);\n",
              "    }\n",
              "    30% {\n",
              "      border-color: transparent;\n",
              "      border-left-color: var(--fill-color);\n",
              "      border-top-color: var(--fill-color);\n",
              "      border-right-color: var(--fill-color);\n",
              "    }\n",
              "    40% {\n",
              "      border-color: transparent;\n",
              "      border-right-color: var(--fill-color);\n",
              "      border-top-color: var(--fill-color);\n",
              "    }\n",
              "    60% {\n",
              "      border-color: transparent;\n",
              "      border-right-color: var(--fill-color);\n",
              "    }\n",
              "    80% {\n",
              "      border-color: transparent;\n",
              "      border-right-color: var(--fill-color);\n",
              "      border-bottom-color: var(--fill-color);\n",
              "    }\n",
              "    90% {\n",
              "      border-color: transparent;\n",
              "      border-bottom-color: var(--fill-color);\n",
              "    }\n",
              "  }\n",
              "</style>\n",
              "\n",
              "      <script>\n",
              "        async function quickchart(key) {\n",
              "          const quickchartButtonEl =\n",
              "            document.querySelector('#' + key + ' button');\n",
              "          quickchartButtonEl.disabled = true;  // To prevent multiple clicks.\n",
              "          quickchartButtonEl.classList.add('colab-df-spinner');\n",
              "          try {\n",
              "            const charts = await google.colab.kernel.invokeFunction(\n",
              "                'suggestCharts', [key], {});\n",
              "          } catch (error) {\n",
              "            console.error('Error during call to suggestCharts:', error);\n",
              "          }\n",
              "          quickchartButtonEl.classList.remove('colab-df-spinner');\n",
              "          quickchartButtonEl.classList.add('colab-df-quickchart-complete');\n",
              "        }\n",
              "        (() => {\n",
              "          let quickchartButtonEl =\n",
              "            document.querySelector('#df-5d53dcd9-210c-4868-8bb8-1f139d7534d5 button');\n",
              "          quickchartButtonEl.style.display =\n",
              "            google.colab.kernel.accessAllowed ? 'block' : 'none';\n",
              "        })();\n",
              "      </script>\n",
              "    </div>\n",
              "\n",
              "    </div>\n",
              "  </div>\n"
            ],
            "application/vnd.google.colaboratory.intrinsic+json": {
              "type": "dataframe",
              "variable_name": "df",
              "summary": "{\n  \"name\": \"df\",\n  \"rows\": 1502,\n  \"fields\": [\n    {\n      \"column\": \"Country\",\n      \"properties\": {\n        \"dtype\": \"category\",\n        \"num_unique_values\": 7,\n        \"samples\": [\n          \"France\",\n          \"Italy\",\n          \"Morroco\"\n        ],\n        \"semantic_type\": \"\",\n        \"description\": \"\"\n      }\n    },\n    {\n      \"column\": \"RestaurantName\",\n      \"properties\": {\n        \"dtype\": \"category\",\n        \"num_unique_values\": 7,\n        \"samples\": [\n          \"The Frog at Bercy Village\",\n          \"Ad Hoc Ristorante (Piazza del Popolo)\",\n          \"The LOFT\"\n        ],\n        \"semantic_type\": \"\",\n        \"description\": \"\"\n      }\n    },\n    {\n      \"column\": \"Sentiment\",\n      \"properties\": {\n        \"dtype\": \"category\",\n        \"num_unique_values\": 2,\n        \"samples\": [\n          \"Positive\",\n          \"Negative\"\n        ],\n        \"semantic_type\": \"\",\n        \"description\": \"\"\n      }\n    },\n    {\n      \"column\": \"ReviewTitle\",\n      \"properties\": {\n        \"dtype\": \"string\",\n        \"num_unique_values\": 1343,\n        \"samples\": [\n          \"Travelling around the world\",\n          \"Last Night in Rome\"\n        ],\n        \"semantic_type\": \"\",\n        \"description\": \"\"\n      }\n    },\n    {\n      \"column\": \"ReviewDate\",\n      \"properties\": {\n        \"dtype\": \"category\",\n        \"num_unique_values\": 143,\n        \"samples\": [\n          \"Jan 2016 \\u2022\",\n          \"Aug 2017 \\u2022\"\n        ],\n        \"semantic_type\": \"\",\n        \"description\": \"\"\n      }\n    },\n    {\n      \"column\": \"Review\",\n      \"properties\": {\n        \"dtype\": \"string\",\n        \"num_unique_values\": 1426,\n        \"samples\": [\n          \"It was just a SHAME!\\n\\nWe waited for our starters for almost one hour! Just because they told us they were cutting by hand our Salumi, including Serrano Ham. I come from Spain, where, in quarter an hour you can have at least 6 traies of fresh-cut serrano ham!!! and when we told tthe waitress how slow they were she replied as if we where the guilty ones who had chosen that starter and knew how long it took it to prepare it! (on top of that the ham wasn`t even good)\\nMoreover it took us half an hour to have the bill!!\\nFor God`s sake! I really encourage you not to go there!!!\",\n          \"Best meal we had in essaouira. Friendly staff, food was delicious en very cosy/nice decorated! We would definitely come back.\"\n        ],\n        \"semantic_type\": \"\",\n        \"description\": \"\"\n      }\n    },\n    {\n      \"column\": \"Label\",\n      \"properties\": {\n        \"dtype\": \"number\",\n        \"std\": 0,\n        \"min\": 0,\n        \"max\": 1,\n        \"num_unique_values\": 2,\n        \"samples\": [\n          1,\n          0\n        ],\n        \"semantic_type\": \"\",\n        \"description\": \"\"\n      }\n    },\n    {\n      \"column\": \"Combined\",\n      \"properties\": {\n        \"dtype\": \"string\",\n        \"num_unique_values\": 1426,\n        \"samples\": [\n          \"SHAMEFULIt was just a SHAME!\\n\\nWe waited for our starters for almost one hour! Just because they told us they were cutting by hand our Salumi, including Serrano Ham. I come from Spain, where, in quarter an hour you can have at least 6 traies of fresh-cut serrano ham!!! and when we told tthe waitress how slow they were she replied as if we where the guilty ones who had chosen that starter and knew how long it took it to prepare it! (on top of that the ham wasn`t even good)\\nMoreover it took us half an hour to have the bill!!\\nFor God`s sake! I really encourage you not to go there!!!\",\n          \"Lovely surprise!Best meal we had in essaouira. Friendly staff, food was delicious en very cosy/nice decorated! We would definitely come back.\"\n        ],\n        \"semantic_type\": \"\",\n        \"description\": \"\"\n      }\n    }\n  ]\n}"
            }
          },
          "metadata": {},
          "execution_count": 10
        }
      ]
    },
    {
      "cell_type": "code",
      "metadata": {
        "id": "N_w3Ev-NB9gZ"
      },
      "source": [
        "# Select the necessary columns\n",
        "df = df[[\"Sentiment\", \"Label\",\"Combined\"]]\n",
        "df = df.rename(columns={'Combined': 'Review'})\n",
        "\n",
        "# Save the DataFrame to a CSV file\n",
        "df.to_csv('/content/drive/MyDrive/FineTuning_Embedding_SentimentAnalysis-main/data/Reviews.csv', index=False)"
      ],
      "execution_count": null,
      "outputs": []
    },
    {
      "cell_type": "code",
      "metadata": {
        "id": "OQw8ZJwuB9gZ",
        "colab": {
          "base_uri": "https://localhost:8080/",
          "height": 112
        },
        "outputId": "cce1d854-bb66-498c-d56b-fa8eaa75cf9d"
      },
      "source": [
        "# Load the CSV file into a DataFrame\n",
        "df = pd.read_csv('/content/drive/MyDrive/FineTuning_Embedding_SentimentAnalysis-main/data/Reviews.csv')\n",
        "\n",
        "# Display the first few rows of the DataFrame\n",
        "df.head(2)"
      ],
      "execution_count": null,
      "outputs": [
        {
          "output_type": "execute_result",
          "data": {
            "text/plain": [
              "  Sentiment  Label  \\\n",
              "0  Negative      0   \n",
              "1  Negative      0   \n",
              "\n",
              "                                                                                                                                                            Review  \n",
              "0   Rude managerThe manager became agressive when I said the carbonara was not good. She was rude. It was  a very bad experience. The worst in Rome in many years.  \n",
              "1  A big disappointmentI ordered a beef fillet ask to be done medium, I got it well done cooked and very dry, when I told them they took the steak and after 20...  "
            ],
            "text/html": [
              "\n",
              "  <div id=\"df-f3660c04-9d63-498c-8026-a3212333404e\" class=\"colab-df-container\">\n",
              "    <div>\n",
              "<style scoped>\n",
              "    .dataframe tbody tr th:only-of-type {\n",
              "        vertical-align: middle;\n",
              "    }\n",
              "\n",
              "    .dataframe tbody tr th {\n",
              "        vertical-align: top;\n",
              "    }\n",
              "\n",
              "    .dataframe thead th {\n",
              "        text-align: right;\n",
              "    }\n",
              "</style>\n",
              "<table border=\"1\" class=\"dataframe\">\n",
              "  <thead>\n",
              "    <tr style=\"text-align: right;\">\n",
              "      <th></th>\n",
              "      <th>Sentiment</th>\n",
              "      <th>Label</th>\n",
              "      <th>Review</th>\n",
              "    </tr>\n",
              "  </thead>\n",
              "  <tbody>\n",
              "    <tr>\n",
              "      <th>0</th>\n",
              "      <td>Negative</td>\n",
              "      <td>0</td>\n",
              "      <td>Rude managerThe manager became agressive when I said the carbonara was not good. She was rude. It was  a very bad experience. The worst in Rome in many years.</td>\n",
              "    </tr>\n",
              "    <tr>\n",
              "      <th>1</th>\n",
              "      <td>Negative</td>\n",
              "      <td>0</td>\n",
              "      <td>A big disappointmentI ordered a beef fillet ask to be done medium, I got it well done cooked and very dry, when I told them they took the steak and after 20...</td>\n",
              "    </tr>\n",
              "  </tbody>\n",
              "</table>\n",
              "</div>\n",
              "    <div class=\"colab-df-buttons\">\n",
              "\n",
              "  <div class=\"colab-df-container\">\n",
              "    <button class=\"colab-df-convert\" onclick=\"convertToInteractive('df-f3660c04-9d63-498c-8026-a3212333404e')\"\n",
              "            title=\"Convert this dataframe to an interactive table.\"\n",
              "            style=\"display:none;\">\n",
              "\n",
              "  <svg xmlns=\"http://www.w3.org/2000/svg\" height=\"24px\" viewBox=\"0 -960 960 960\">\n",
              "    <path d=\"M120-120v-720h720v720H120Zm60-500h600v-160H180v160Zm220 220h160v-160H400v160Zm0 220h160v-160H400v160ZM180-400h160v-160H180v160Zm440 0h160v-160H620v160ZM180-180h160v-160H180v160Zm440 0h160v-160H620v160Z\"/>\n",
              "  </svg>\n",
              "    </button>\n",
              "\n",
              "  <style>\n",
              "    .colab-df-container {\n",
              "      display:flex;\n",
              "      gap: 12px;\n",
              "    }\n",
              "\n",
              "    .colab-df-convert {\n",
              "      background-color: #E8F0FE;\n",
              "      border: none;\n",
              "      border-radius: 50%;\n",
              "      cursor: pointer;\n",
              "      display: none;\n",
              "      fill: #1967D2;\n",
              "      height: 32px;\n",
              "      padding: 0 0 0 0;\n",
              "      width: 32px;\n",
              "    }\n",
              "\n",
              "    .colab-df-convert:hover {\n",
              "      background-color: #E2EBFA;\n",
              "      box-shadow: 0px 1px 2px rgba(60, 64, 67, 0.3), 0px 1px 3px 1px rgba(60, 64, 67, 0.15);\n",
              "      fill: #174EA6;\n",
              "    }\n",
              "\n",
              "    .colab-df-buttons div {\n",
              "      margin-bottom: 4px;\n",
              "    }\n",
              "\n",
              "    [theme=dark] .colab-df-convert {\n",
              "      background-color: #3B4455;\n",
              "      fill: #D2E3FC;\n",
              "    }\n",
              "\n",
              "    [theme=dark] .colab-df-convert:hover {\n",
              "      background-color: #434B5C;\n",
              "      box-shadow: 0px 1px 3px 1px rgba(0, 0, 0, 0.15);\n",
              "      filter: drop-shadow(0px 1px 2px rgba(0, 0, 0, 0.3));\n",
              "      fill: #FFFFFF;\n",
              "    }\n",
              "  </style>\n",
              "\n",
              "    <script>\n",
              "      const buttonEl =\n",
              "        document.querySelector('#df-f3660c04-9d63-498c-8026-a3212333404e button.colab-df-convert');\n",
              "      buttonEl.style.display =\n",
              "        google.colab.kernel.accessAllowed ? 'block' : 'none';\n",
              "\n",
              "      async function convertToInteractive(key) {\n",
              "        const element = document.querySelector('#df-f3660c04-9d63-498c-8026-a3212333404e');\n",
              "        const dataTable =\n",
              "          await google.colab.kernel.invokeFunction('convertToInteractive',\n",
              "                                                    [key], {});\n",
              "        if (!dataTable) return;\n",
              "\n",
              "        const docLinkHtml = 'Like what you see? Visit the ' +\n",
              "          '<a target=\"_blank\" href=https://colab.research.google.com/notebooks/data_table.ipynb>data table notebook</a>'\n",
              "          + ' to learn more about interactive tables.';\n",
              "        element.innerHTML = '';\n",
              "        dataTable['output_type'] = 'display_data';\n",
              "        await google.colab.output.renderOutput(dataTable, element);\n",
              "        const docLink = document.createElement('div');\n",
              "        docLink.innerHTML = docLinkHtml;\n",
              "        element.appendChild(docLink);\n",
              "      }\n",
              "    </script>\n",
              "  </div>\n",
              "\n",
              "\n",
              "    <div id=\"df-a161631c-c0f2-4329-8250-2e839d2d5ed6\">\n",
              "      <button class=\"colab-df-quickchart\" onclick=\"quickchart('df-a161631c-c0f2-4329-8250-2e839d2d5ed6')\"\n",
              "                title=\"Suggest charts\"\n",
              "                style=\"display:none;\">\n",
              "\n",
              "<svg xmlns=\"http://www.w3.org/2000/svg\" height=\"24px\"viewBox=\"0 0 24 24\"\n",
              "     width=\"24px\">\n",
              "    <g>\n",
              "        <path d=\"M19 3H5c-1.1 0-2 .9-2 2v14c0 1.1.9 2 2 2h14c1.1 0 2-.9 2-2V5c0-1.1-.9-2-2-2zM9 17H7v-7h2v7zm4 0h-2V7h2v10zm4 0h-2v-4h2v4z\"/>\n",
              "    </g>\n",
              "</svg>\n",
              "      </button>\n",
              "\n",
              "<style>\n",
              "  .colab-df-quickchart {\n",
              "      --bg-color: #E8F0FE;\n",
              "      --fill-color: #1967D2;\n",
              "      --hover-bg-color: #E2EBFA;\n",
              "      --hover-fill-color: #174EA6;\n",
              "      --disabled-fill-color: #AAA;\n",
              "      --disabled-bg-color: #DDD;\n",
              "  }\n",
              "\n",
              "  [theme=dark] .colab-df-quickchart {\n",
              "      --bg-color: #3B4455;\n",
              "      --fill-color: #D2E3FC;\n",
              "      --hover-bg-color: #434B5C;\n",
              "      --hover-fill-color: #FFFFFF;\n",
              "      --disabled-bg-color: #3B4455;\n",
              "      --disabled-fill-color: #666;\n",
              "  }\n",
              "\n",
              "  .colab-df-quickchart {\n",
              "    background-color: var(--bg-color);\n",
              "    border: none;\n",
              "    border-radius: 50%;\n",
              "    cursor: pointer;\n",
              "    display: none;\n",
              "    fill: var(--fill-color);\n",
              "    height: 32px;\n",
              "    padding: 0;\n",
              "    width: 32px;\n",
              "  }\n",
              "\n",
              "  .colab-df-quickchart:hover {\n",
              "    background-color: var(--hover-bg-color);\n",
              "    box-shadow: 0 1px 2px rgba(60, 64, 67, 0.3), 0 1px 3px 1px rgba(60, 64, 67, 0.15);\n",
              "    fill: var(--button-hover-fill-color);\n",
              "  }\n",
              "\n",
              "  .colab-df-quickchart-complete:disabled,\n",
              "  .colab-df-quickchart-complete:disabled:hover {\n",
              "    background-color: var(--disabled-bg-color);\n",
              "    fill: var(--disabled-fill-color);\n",
              "    box-shadow: none;\n",
              "  }\n",
              "\n",
              "  .colab-df-spinner {\n",
              "    border: 2px solid var(--fill-color);\n",
              "    border-color: transparent;\n",
              "    border-bottom-color: var(--fill-color);\n",
              "    animation:\n",
              "      spin 1s steps(1) infinite;\n",
              "  }\n",
              "\n",
              "  @keyframes spin {\n",
              "    0% {\n",
              "      border-color: transparent;\n",
              "      border-bottom-color: var(--fill-color);\n",
              "      border-left-color: var(--fill-color);\n",
              "    }\n",
              "    20% {\n",
              "      border-color: transparent;\n",
              "      border-left-color: var(--fill-color);\n",
              "      border-top-color: var(--fill-color);\n",
              "    }\n",
              "    30% {\n",
              "      border-color: transparent;\n",
              "      border-left-color: var(--fill-color);\n",
              "      border-top-color: var(--fill-color);\n",
              "      border-right-color: var(--fill-color);\n",
              "    }\n",
              "    40% {\n",
              "      border-color: transparent;\n",
              "      border-right-color: var(--fill-color);\n",
              "      border-top-color: var(--fill-color);\n",
              "    }\n",
              "    60% {\n",
              "      border-color: transparent;\n",
              "      border-right-color: var(--fill-color);\n",
              "    }\n",
              "    80% {\n",
              "      border-color: transparent;\n",
              "      border-right-color: var(--fill-color);\n",
              "      border-bottom-color: var(--fill-color);\n",
              "    }\n",
              "    90% {\n",
              "      border-color: transparent;\n",
              "      border-bottom-color: var(--fill-color);\n",
              "    }\n",
              "  }\n",
              "</style>\n",
              "\n",
              "      <script>\n",
              "        async function quickchart(key) {\n",
              "          const quickchartButtonEl =\n",
              "            document.querySelector('#' + key + ' button');\n",
              "          quickchartButtonEl.disabled = true;  // To prevent multiple clicks.\n",
              "          quickchartButtonEl.classList.add('colab-df-spinner');\n",
              "          try {\n",
              "            const charts = await google.colab.kernel.invokeFunction(\n",
              "                'suggestCharts', [key], {});\n",
              "          } catch (error) {\n",
              "            console.error('Error during call to suggestCharts:', error);\n",
              "          }\n",
              "          quickchartButtonEl.classList.remove('colab-df-spinner');\n",
              "          quickchartButtonEl.classList.add('colab-df-quickchart-complete');\n",
              "        }\n",
              "        (() => {\n",
              "          let quickchartButtonEl =\n",
              "            document.querySelector('#df-a161631c-c0f2-4329-8250-2e839d2d5ed6 button');\n",
              "          quickchartButtonEl.style.display =\n",
              "            google.colab.kernel.accessAllowed ? 'block' : 'none';\n",
              "        })();\n",
              "      </script>\n",
              "    </div>\n",
              "\n",
              "    </div>\n",
              "  </div>\n"
            ],
            "application/vnd.google.colaboratory.intrinsic+json": {
              "type": "dataframe",
              "variable_name": "df",
              "summary": "{\n  \"name\": \"df\",\n  \"rows\": 1502,\n  \"fields\": [\n    {\n      \"column\": \"Sentiment\",\n      \"properties\": {\n        \"dtype\": \"category\",\n        \"num_unique_values\": 2,\n        \"samples\": [\n          \"Positive\",\n          \"Negative\"\n        ],\n        \"semantic_type\": \"\",\n        \"description\": \"\"\n      }\n    },\n    {\n      \"column\": \"Label\",\n      \"properties\": {\n        \"dtype\": \"number\",\n        \"std\": 0,\n        \"min\": 0,\n        \"max\": 1,\n        \"num_unique_values\": 2,\n        \"samples\": [\n          1,\n          0\n        ],\n        \"semantic_type\": \"\",\n        \"description\": \"\"\n      }\n    },\n    {\n      \"column\": \"Review\",\n      \"properties\": {\n        \"dtype\": \"string\",\n        \"num_unique_values\": 1426,\n        \"samples\": [\n          \"SHAMEFULIt was just a SHAME!\\n\\nWe waited for our starters for almost one hour! Just because they told us they were cutting by hand our Salumi, including Serrano Ham. I come from Spain, where, in quarter an hour you can have at least 6 traies of fresh-cut serrano ham!!! and when we told tthe waitress how slow they were she replied as if we where the guilty ones who had chosen that starter and knew how long it took it to prepare it! (on top of that the ham wasn`t even good)\\nMoreover it took us half an hour to have the bill!!\\nFor God`s sake! I really encourage you not to go there!!!\",\n          \"Lovely surprise!Best meal we had in essaouira. Friendly staff, food was delicious en very cosy/nice decorated! We would definitely come back.\"\n        ],\n        \"semantic_type\": \"\",\n        \"description\": \"\"\n      }\n    }\n  ]\n}"
            }
          },
          "metadata": {},
          "execution_count": 12
        }
      ]
    },
    {
      "cell_type": "code",
      "metadata": {
        "id": "C1wpai9oB9gZ",
        "colab": {
          "base_uri": "https://localhost:8080/"
        },
        "outputId": "a25561a4-27fe-432f-8659-e5a1d934d225"
      },
      "source": [
        "df.columns"
      ],
      "execution_count": null,
      "outputs": [
        {
          "output_type": "execute_result",
          "data": {
            "text/plain": [
              "Index(['Sentiment', 'Label', 'Review'], dtype='object')"
            ]
          },
          "metadata": {},
          "execution_count": 13
        }
      ]
    },
    {
      "cell_type": "code",
      "metadata": {
        "id": "plF-BUOIB9gZ",
        "colab": {
          "base_uri": "https://localhost:8080/"
        },
        "outputId": "85119424-5ada-45c7-fb02-731939cf5f6b"
      },
      "source": [
        "print(df.dtypes)"
      ],
      "execution_count": null,
      "outputs": [
        {
          "output_type": "stream",
          "name": "stdout",
          "text": [
            "Sentiment    object\n",
            "Label         int64\n",
            "Review       object\n",
            "dtype: object\n"
          ]
        }
      ]
    },
    {
      "cell_type": "markdown",
      "metadata": {
        "id": "section-doc-25"
      },
      "source": [
        "### 3.2 Text Length Analysis\n",
        "Examine the length distribution of reviews to understand text characteristics."
      ]
    },
    {
      "cell_type": "code",
      "metadata": {
        "id": "N20pRDcEB9ga",
        "colab": {
          "base_uri": "https://localhost:8080/",
          "height": 178
        },
        "outputId": "b0ec516f-d83c-4bc0-ed38-723cf3ae418a"
      },
      "source": [
        "#Check all missing value in dataset\n",
        "df_missing_values= df.isnull().sum()\n",
        "df_missing_values"
      ],
      "execution_count": null,
      "outputs": [
        {
          "output_type": "execute_result",
          "data": {
            "text/plain": [
              "Sentiment    0\n",
              "Label        0\n",
              "Review       0\n",
              "dtype: int64"
            ],
            "text/html": [
              "<div>\n",
              "<style scoped>\n",
              "    .dataframe tbody tr th:only-of-type {\n",
              "        vertical-align: middle;\n",
              "    }\n",
              "\n",
              "    .dataframe tbody tr th {\n",
              "        vertical-align: top;\n",
              "    }\n",
              "\n",
              "    .dataframe thead th {\n",
              "        text-align: right;\n",
              "    }\n",
              "</style>\n",
              "<table border=\"1\" class=\"dataframe\">\n",
              "  <thead>\n",
              "    <tr style=\"text-align: right;\">\n",
              "      <th></th>\n",
              "      <th>0</th>\n",
              "    </tr>\n",
              "  </thead>\n",
              "  <tbody>\n",
              "    <tr>\n",
              "      <th>Sentiment</th>\n",
              "      <td>0</td>\n",
              "    </tr>\n",
              "    <tr>\n",
              "      <th>Label</th>\n",
              "      <td>0</td>\n",
              "    </tr>\n",
              "    <tr>\n",
              "      <th>Review</th>\n",
              "      <td>0</td>\n",
              "    </tr>\n",
              "  </tbody>\n",
              "</table>\n",
              "</div><br><label><b>dtype:</b> int64</label>"
            ]
          },
          "metadata": {},
          "execution_count": 15
        }
      ]
    },
    {
      "cell_type": "code",
      "metadata": {
        "id": "CzcANb_UB9ga",
        "colab": {
          "base_uri": "https://localhost:8080/"
        },
        "outputId": "e917472e-c0cc-4f70-d34d-8aebfdc22dd0"
      },
      "source": [
        "df.duplicated().sum()"
      ],
      "execution_count": null,
      "outputs": [
        {
          "output_type": "execute_result",
          "data": {
            "text/plain": [
              "np.int64(76)"
            ]
          },
          "metadata": {},
          "execution_count": 16
        }
      ]
    },
    {
      "cell_type": "code",
      "metadata": {
        "id": "EM-bQvYnB9ga"
      },
      "source": [
        "#drop duplicates\n",
        "df.drop_duplicates(inplace=True)"
      ],
      "execution_count": null,
      "outputs": []
    },
    {
      "cell_type": "code",
      "metadata": {
        "id": "tRq_UUcyB9ga",
        "colab": {
          "base_uri": "https://localhost:8080/"
        },
        "outputId": "db867f7d-3e0f-4eef-c697-8e94e8752afc"
      },
      "source": [
        "#Find unique values in df['Sentiment']\n",
        "unique_Sentiment= df['Sentiment'] .unique()\n",
        "print(unique_Sentiment)"
      ],
      "execution_count": null,
      "outputs": [
        {
          "output_type": "stream",
          "name": "stdout",
          "text": [
            "['Negative' 'Positive']\n"
          ]
        }
      ]
    },
    {
      "cell_type": "code",
      "metadata": {
        "id": "93bfzdNTB9ga",
        "colab": {
          "base_uri": "https://localhost:8080/",
          "height": 178
        },
        "outputId": "df8fef81-8408-4d52-ddaf-b1a05e131d99"
      },
      "source": [
        "df_Sentiment_counts = df['Sentiment'].value_counts()\n",
        "df_Sentiment_counts"
      ],
      "execution_count": null,
      "outputs": [
        {
          "output_type": "execute_result",
          "data": {
            "text/plain": [
              "Sentiment\n",
              "Positive    1237\n",
              "Negative     189\n",
              "Name: count, dtype: int64"
            ],
            "text/html": [
              "<div>\n",
              "<style scoped>\n",
              "    .dataframe tbody tr th:only-of-type {\n",
              "        vertical-align: middle;\n",
              "    }\n",
              "\n",
              "    .dataframe tbody tr th {\n",
              "        vertical-align: top;\n",
              "    }\n",
              "\n",
              "    .dataframe thead th {\n",
              "        text-align: right;\n",
              "    }\n",
              "</style>\n",
              "<table border=\"1\" class=\"dataframe\">\n",
              "  <thead>\n",
              "    <tr style=\"text-align: right;\">\n",
              "      <th></th>\n",
              "      <th>count</th>\n",
              "    </tr>\n",
              "    <tr>\n",
              "      <th>Sentiment</th>\n",
              "      <th></th>\n",
              "    </tr>\n",
              "  </thead>\n",
              "  <tbody>\n",
              "    <tr>\n",
              "      <th>Positive</th>\n",
              "      <td>1237</td>\n",
              "    </tr>\n",
              "    <tr>\n",
              "      <th>Negative</th>\n",
              "      <td>189</td>\n",
              "    </tr>\n",
              "  </tbody>\n",
              "</table>\n",
              "</div><br><label><b>dtype:</b> int64</label>"
            ]
          },
          "metadata": {},
          "execution_count": 19
        }
      ]
    },
    {
      "cell_type": "markdown",
      "metadata": {
        "id": "section-doc-30"
      },
      "source": [
        "### 3.3 Word Cloud Visualization\n",
        "Create word clouds to visualize the most common words in positive and negative reviews."
      ]
    },
    {
      "cell_type": "markdown",
      "metadata": {
        "id": "SfwxtuVgB9ga"
      },
      "source": [
        "### There is an imbalanced dataset of sentiments between Positive and Negative"
      ]
    },
    {
      "cell_type": "code",
      "metadata": {
        "id": "53RGY8lEB9ga",
        "colab": {
          "base_uri": "https://localhost:8080/",
          "height": 380
        },
        "outputId": "3e90a99a-addd-40f4-c8ed-ca0e0835d866"
      },
      "source": [
        "#Plot Sentiment\n",
        "plt.figure(figsize=(3, 3))\n",
        "sns.barplot(x=df_Sentiment_counts.index, y=df_Sentiment_counts.values, palette='Greens',alpha=0.7)\n",
        "plt.title('Frequency of Each Sentiment', fontsize=16)\n",
        "plt.xlabel('Sentiment', fontsize=14)\n",
        "plt.ylabel('Frequency', fontsize=14)\n",
        "plt.xticks(rotation=45)\n",
        "plt.show()"
      ],
      "execution_count": null,
      "outputs": [
        {
          "output_type": "display_data",
          "data": {
            "text/plain": [
              "<Figure size 300x300 with 1 Axes>"
            ],
            "image/png": "[encoded data removed]"
          },
          "metadata": {}
        }
      ]
    },
    {
      "cell_type": "code",
      "metadata": {
        "id": "UH9hQbXHB9ga",
        "colab": {
          "base_uri": "https://localhost:8080/",
          "height": 292
        },
        "outputId": "9a9d4192-e0af-4a1c-f0ed-c8abe5d28efb"
      },
      "source": [
        "plt.figure(figsize=(3, 3))\n",
        "plt.pie(df_Sentiment_counts, labels=df_Sentiment_counts.index, autopct='%1.1f%%', colors=['#66c2a5', '#fc8d62', '#8da0cb'])\n",
        "plt.title('Distribution of Sentiments', fontsize=16)\n",
        "plt.show()"
      ],
      "execution_count": null,
      "outputs": [
        {
          "output_type": "display_data",
          "data": {
            "text/plain": [
              "<Figure size 300x300 with 1 Axes>"
            ],
            "image/png": "[encoded data removed]"
          },
          "metadata": {}
        }
      ]
    },
    {
      "cell_type": "code",
      "metadata": {
        "id": "16ae-Oe4B9gb",
        "colab": {
          "base_uri": "https://localhost:8080/",
          "height": 292
        },
        "outputId": "6e5c5bb7-08fb-4007-ee84-d30ab46c2954"
      },
      "source": [
        "df_Label_counts = df['Label'].value_counts()\n",
        "plt.figure(figsize=(3, 3))\n",
        "plt.pie(df_Sentiment_counts, labels=df_Label_counts.index, autopct='%1.1f%%', colors=['#66c2a5', '#fc8d62', '#8da0cb'])\n",
        "plt.title('Distribution of Label', fontsize=16)\n",
        "plt.show()"
      ],
      "execution_count": null,
      "outputs": [
        {
          "output_type": "display_data",
          "data": {
            "text/plain": [
              "<Figure size 300x300 with 1 Axes>"
            ],
            "image/png": "[encoded data removed]"
          },
          "metadata": {}
        }
      ]
    },
    {
      "cell_type": "code",
      "metadata": {
        "id": "f9aiZpWtB9gb",
        "colab": {
          "base_uri": "https://localhost:8080/",
          "height": 295
        },
        "outputId": "50a30641-ce90-4025-c6ba-fcb49d0c7d18"
      },
      "source": [
        "# Plotting the word cloud of Positive Review Title\n",
        "\n",
        "pos_words = \"\"\n",
        "# Loop all texts where Sentiment is 'Positive'\n",
        "for value in df[df['Sentiment'] == 'Positive'].Review:\n",
        "    lowercase_text = value.lower()\n",
        "    tokens = nltk.word_tokenize(lowercase_text)\n",
        "    for word in tokens:\n",
        "        pos_words = pos_words + word + ' '\n",
        "\n",
        "pos_wordcloud = WordCloud(background_color=\"White\", width=600, height=200).generate(pos_words)\n",
        "\n",
        "# Plot the word cloud\n",
        "plt.figure( figsize=(10,10), facecolor='r')\n",
        "plt.imshow(pos_wordcloud)\n",
        "plt.axis(\"off\")\n",
        "plt.show()"
      ],
      "execution_count": null,
      "outputs": [
        {
          "output_type": "display_data",
          "data": {
            "text/plain": [
              "<Figure size 1000x1000 with 1 Axes>"
            ],
            "image/png": "[encoded data removed]"
          },
          "metadata": {}
        }
      ]
    },
    {
      "cell_type": "markdown",
      "metadata": {
        "id": "section-doc-35"
      },
      "source": [
        "## 4. Data Preprocessing for BERT\n",
        "\n",
        "### 4.1 Label Encoding\n",
        "Convert sentiment labels to numerical format for model training."
      ]
    },
    {
      "cell_type": "markdown",
      "metadata": {
        "id": "7fc8UAVHF-XL"
      },
      "source": [
        "Unlike traditional Machine Learning Models like Logistic Regression, Random Forest, or SVM, which need to convert text data into a numerical format, when using BERT or similar pre-trained transformer models, we don't need to apply traditional text preprocessing steps like TF-IDF, regex cleaning, or other NLP techniques like stemming or lemmatization. BERT models handle these preprocessing steps internally, including tokenization and handling of special characters.\n",
        "\n",
        "### Fine-tunes DistilBertForSequenceClassification and balancing the imbalanced dataset in the Reviews dataset.\n",
        "\n",
        "1. Fine-tuning : Directly fine-tune DistilBertForSequenceClassification on the EuropeanRestaurantReviews dataset.\n",
        "\n",
        "2. Evaluation: Evaluate the fine-tuned model.\n",
        "   \n",
        "3. Saving and Loading the Model: Save the fine-tuned model and load it for making predictions.\n",
        "\n",
        "4. Prediction Function: Use the fine-tuned model to predict sentiment directly from user input."
      ]
    },
    {
      "cell_type": "code",
      "metadata": {
        "id": "5KA3NaYyF5uC",
        "colab": {
          "base_uri": "https://localhost:8080/",
          "height": 145,
          "referenced_widgets": [
            "9bd62a2099774c838b55d7c34abb4e37",
            "3e59589d33f14d3681c0d5051770ac37",
            "9513ce0df59d4c299603eddb299f77ed",
            "c672f7c41a514469a17cde8a7940d539"
          ]
        },
        "outputId": "2d0de04e-1d96-4eed-ff9b-20227f3bc1f9"
      },
      "source": [
        "# Preprocess the text data using DistilBERT tokenizer\n",
        "tokenizer = DistilBertTokenizer.from_pretrained('distilbert-base-uncased')"
      ],
      "execution_count": null,
      "outputs": [
        {
          "output_type": "display_data",
          "data": {
            "text/plain": [
              "tokenizer_config.json:   0%|          | 0.00/48.0 [00:00<?, ?B/s]"
            ],
            "application/vnd.jupyter.widget-view+json": {
              "version_major": 2,
              "version_minor": 0,
              "model_id": "9bd62a2099774c838b55d7c34abb4e37"
            }
          },
          "metadata": {}
        },
        {
          "output_type": "display_data",
          "data": {
            "text/plain": [
              "vocab.txt:   0%|          | 0.00/232k [00:00<?, ?B/s]"
            ],
            "application/vnd.jupyter.widget-view+json": {
              "version_major": 2,
              "version_minor": 0,
              "model_id": "3e59589d33f14d3681c0d5051770ac37"
            }
          },
          "metadata": {}
        },
        {
          "output_type": "display_data",
          "data": {
            "text/plain": [
              "tokenizer.json:   0%|          | 0.00/466k [00:00<?, ?B/s]"
            ],
            "application/vnd.jupyter.widget-view+json": {
              "version_major": 2,
              "version_minor": 0,
              "model_id": "9513ce0df59d4c299603eddb299f77ed"
            }
          },
          "metadata": {}
        },
        {
          "output_type": "display_data",
          "data": {
            "text/plain": [
              "config.json:   0%|          | 0.00/483 [00:00<?, ?B/s]"
            ],
            "application/vnd.jupyter.widget-view+json": {
              "version_major": 2,
              "version_minor": 0,
              "model_id": "c672f7c41a514469a17cde8a7940d539"
            }
          },
          "metadata": {}
        }
      ]
    },
    {
      "cell_type": "code",
      "metadata": {
        "id": "g-LELf9xF6AS"
      },
      "source": [
        "# Function to tokenize data\n",
        "def tokenize_data(reviews, labels):\n",
        "    encodings = tokenizer(reviews, truncation=True, padding=True, max_length=128)\n",
        "    dataset = [{'input_ids': torch.tensor(encodings['input_ids'][i]),\n",
        "                'attention_mask': torch.tensor(encodings['attention_mask'][i]),\n",
        "                'labels': torch.tensor(labels[i])} for i in range(len(reviews))]\n",
        "    return dataset"
      ],
      "execution_count": null,
      "outputs": []
    },
    {
      "cell_type": "code",
      "metadata": {
        "id": "khzXRemUF6D-"
      },
      "source": [
        "# Split the data\n",
        "train_texts, test_texts, train_labels, test_labels = train_test_split(df['Review'], df['Label'], test_size=0.3, random_state=42)\n",
        "\n",
        "train_dataset = tokenize_data(train_texts.tolist(), train_labels.tolist())\n",
        "test_dataset = tokenize_data(test_texts.tolist(), test_labels.tolist())"
      ],
      "execution_count": null,
      "outputs": []
    },
    {
      "cell_type": "code",
      "metadata": {
        "id": "-JvQIZ-nF6G_"
      },
      "source": [
        "# Calculate class weights for handling imbalanced data\n",
        "class_weights = torch.tensor([len(train_labels) / (len(np.unique(train_labels)) * np.bincount(train_labels))], dtype=torch.float)\n",
        "class_weights = class_weights.squeeze()"
      ],
      "execution_count": null,
      "outputs": []
    },
    {
      "cell_type": "markdown",
      "metadata": {
        "id": "section-doc-40"
      },
      "source": [
        "### 4.2 Text Tokenization\n",
        "Prepare text data for BERT input using DistilBERT tokenizer."
      ]
    },
    {
      "cell_type": "code",
      "metadata": {
        "id": "SvXvHK4IGPmm",
        "colab": {
          "base_uri": "https://localhost:8080/",
          "height": 104,
          "referenced_widgets": [
            "5dbd080d417a412582d6a0a65444e5e9"
          ]
        },
        "outputId": "5ea87f27-4790-4ae9-f575-b970e3840776"
      },
      "source": [
        "# Load DistilBERT model for sequence classification\n",
        "model = DistilBertForSequenceClassification.from_pretrained('distilbert-base-uncased', num_labels=2)"
      ],
      "execution_count": null,
      "outputs": [
        {
          "output_type": "display_data",
          "data": {
            "text/plain": [
              "model.safetensors:   0%|          | 0.00/268M [00:00<?, ?B/s]"
            ],
            "application/vnd.jupyter.widget-view+json": {
              "version_major": 2,
              "version_minor": 0,
              "model_id": "5dbd080d417a412582d6a0a65444e5e9"
            }
          },
          "metadata": {}
        },
        {
          "output_type": "stream",
          "name": "stderr",
          "text": [
            "Some weights of DistilBertForSequenceClassification were not initialized from the model checkpoint at distilbert-base-uncased and are newly initialized: ['classifier.bias', 'classifier.weight', 'pre_classifier.bias', 'pre_classifier.weight']\n",
            "You should probably TRAIN this model on a down-stream task to be able to use it for predictions and inference.\n"
          ]
        }
      ]
    },
    {
      "cell_type": "code",
      "metadata": {
        "id": "yQ0BrIR5GPqD"
      },
      "source": [
        "# Training arguments for fine-tuning DistilBERT\n",
        "\n",
        "training_args = TrainingArguments(\n",
        "    output_dir='./results',\n",
        "    num_train_epochs=3,\n",
        "    per_device_train_batch_size=16,\n",
        "    per_device_eval_batch_size=16,\n",
        "    warmup_steps=500,\n",
        "    weight_decay=0.01,\n",
        "    logging_dir='./logs',\n",
        "    logging_steps=10,\n",
        "    eval_strategy=\"epoch\",\n",
        "    save_strategy=\"epoch\",\n",
        "    load_best_model_at_end=True,\n",
        "    metric_for_best_model=\"accuracy\",\n",
        "    greater_is_better=True,\n",
        "    report_to=[]  # This disables wandb logging\n",
        ")\n",
        "\n",
        "# Compute metrics function\n",
        "def compute_metrics(p):\n",
        "    preds = np.argmax(p.predictions, axis=1)\n",
        "    labels = p.label_ids\n",
        "    accuracy = accuracy_score(labels, preds)\n",
        "    precision, recall, f1, _ = precision_recall_fscore_support(labels, preds, average='binary')\n",
        "    return {\n",
        "        'accuracy': accuracy,\n",
        "        'f1': f1,\n",
        "        'precision': precision,\n",
        "        'recall': recall\n",
        "    }"
      ],
      "execution_count": null,
      "outputs": []
    },
    {
      "cell_type": "markdown",
      "metadata": {
        "id": "Xiu6GfbTGxR3"
      },
      "source": [
        "To include a chart of performance, including the loss, in the training process, need to extend the Trainer class to log the loss values during training and evaluation. After training, we can plot these metrics to visualize the performance\n",
        "\n",
        "\n"
      ]
    },
    {
      "cell_type": "code",
      "metadata": {
        "id": "6duW3ZEZGPwZ",
        "colab": {
          "base_uri": "https://localhost:8080/"
        },
        "outputId": "400c19ce-2215-4108-b608-ab1104ee4a6d"
      },
      "source": [
        "import transformers\n",
        "print(transformers.__version__)"
      ],
      "execution_count": null,
      "outputs": [
        {
          "output_type": "stream",
          "name": "stdout",
          "text": [
            "4.52.4\n"
          ]
        }
      ]
    },
    {
      "cell_type": "markdown",
      "metadata": {
        "id": "7CGJVKS9O428"
      },
      "source": [
        "**Must use GPU**"
      ]
    },
    {
      "cell_type": "markdown",
      "metadata": {
        "id": "section-doc-45"
      },
      "source": [
        "## 5. Model Training\n",
        "\n",
        "### 5.1 Model Configuration\n",
        "Set up DistilBERT model with proper configuration for sentiment classification."
      ]
    },
    {
      "cell_type": "code",
      "metadata": {
        "id": "MbvyB71jGPzp",
        "colab": {
          "base_uri": "https://localhost:8080/",
          "height": 930
        },
        "outputId": "cfadaf58-72fd-4014-9e61-0fe524ef85fb"
      },
      "source": [
        "# Callback to log loss and metrics\n",
        "class MetricsCallback(TrainerCallback):\n",
        "    def __init__(self):\n",
        "        self.metrics = {'train_loss': [], 'eval_loss': [], 'eval_accuracy': []}\n",
        "\n",
        "    def on_log(self, args, state, control, logs=None, **kwargs):\n",
        "        if 'loss' in logs:\n",
        "            self.metrics['train_loss'].append((state.global_step, logs['loss']))\n",
        "        if 'eval_loss' in logs:\n",
        "            self.metrics['eval_loss'].append((state.global_step, logs['eval_loss']))\n",
        "        if 'eval_accuracy' in logs:\n",
        "            self.metrics['eval_accuracy'].append((state.global_step, logs['eval_accuracy']))\n",
        "\n",
        "# Subclass Trainer with proper device handling\n",
        "class WeightedTrainer(Trainer):\n",
        "    def __init__(self, class_weights=None, *args, **kwargs):\n",
        "        super().__init__(*args, **kwargs)\n",
        "        self.class_weights = class_weights\n",
        "\n",
        "    def compute_loss(self, model, inputs, return_outputs=False, num_items_in_batch=None):\n",
        "        labels = inputs.pop(\"labels\")\n",
        "        outputs = model(**inputs)\n",
        "        logits = outputs.logits\n",
        "\n",
        "        if self.class_weights is not None:\n",
        "            device_weights = self.class_weights.to(logits.device)\n",
        "            loss_fct = torch.nn.CrossEntropyLoss(weight=device_weights)\n",
        "        else:\n",
        "            loss_fct = torch.nn.CrossEntropyLoss()\n",
        "\n",
        "        loss = loss_fct(logits, labels)\n",
        "        return (loss, outputs) if return_outputs else loss\n",
        "\n",
        "# OPTION 1: Load model with custom dropout configuration\n",
        "config = DistilBertConfig.from_pretrained('distilbert-base-uncased')\n",
        "config.num_labels = 2\n",
        "config.dropout = 0.3  # Set dropout rate\n",
        "config.attention_dropout = 0.3  # Set attention dropout rate\n",
        "\n",
        "model = DistilBertForSequenceClassification.from_pretrained(\n",
        "    'distilbert-base-uncased',\n",
        "    config=config\n",
        ")\n",
        "\n",
        "# OPTION 2: Simple approach with default dropout (uncomment to use instead)\n",
        "# model = DistilBertForSequenceClassification.from_pretrained(\n",
        "#     'distilbert-base-uncased',\n",
        "#     num_labels=2\n",
        "# )\n",
        "\n",
        "# Improved training arguments with overfitting prevention\n",
        "training_args = TrainingArguments(\n",
        "    output_dir='./results',\n",
        "    num_train_epochs=20,  # Reduced from 5\n",
        "    per_device_train_batch_size=16,\n",
        "    per_device_eval_batch_size=16,\n",
        "    warmup_steps=500,\n",
        "    weight_decay=0.01,  # L2 regularization\n",
        "    learning_rate=2e-5,  # Reduced learning rate\n",
        "    lr_scheduler_type=\"cosine\",  # Learning rate scheduler\n",
        "    logging_dir='./logs',\n",
        "    logging_steps=10,\n",
        "    eval_strategy=\"epoch\",\n",
        "    save_strategy=\"epoch\",\n",
        "    load_best_model_at_end=True,\n",
        "    metric_for_best_model=\"eval_loss\",  # Use loss instead of accuracy for early stopping\n",
        "    greater_is_better=False,  # Lower loss is better\n",
        "    report_to=[],  # Disable wandb\n",
        "    # Additional overfitting prevention\n",
        "    dataloader_drop_last=True,  # Drop incomplete batches\n",
        "    eval_accumulation_steps=1,  # Evaluate more frequently\n",
        ")\n",
        "\n",
        "# Initialize callbacks\n",
        "metrics_callback = MetricsCallback()\n",
        "early_stopping_callback = EarlyStoppingCallback(\n",
        "    early_stopping_patience=2,  # Stop if no improvement for 2 epochs\n",
        "    early_stopping_threshold=0.01  # Minimum improvement threshold\n",
        ")\n",
        "\n",
        "# Trainer initialization with overfitting prevention\n",
        "trainer = WeightedTrainer(\n",
        "    class_weights=class_weights,\n",
        "    model=model,\n",
        "    args=training_args,\n",
        "    train_dataset=train_dataset,\n",
        "    eval_dataset=test_dataset,\n",
        "    compute_metrics=compute_metrics,\n",
        "    callbacks=[metrics_callback, early_stopping_callback],\n",
        ")\n",
        "\n",
        "# Train the model\n",
        "print(\"Starting training with overfitting prevention...\")\n",
        "print(\"Early stopping will trigger if validation loss doesn't improve for 2 epochs\")\n",
        "trainer.train()\n",
        "print(\"Training completed!\")\n",
        "\n",
        "# Plot the loss and accuracy curves\n",
        "train_loss = metrics_callback.metrics['train_loss']\n",
        "eval_loss = metrics_callback.metrics['eval_loss']\n",
        "eval_accuracy = metrics_callback.metrics['eval_accuracy']\n",
        "\n",
        "if train_loss and eval_loss and eval_accuracy:\n",
        "    train_steps, train_losses = zip(*train_loss)\n",
        "    eval_steps, eval_losses = zip(*eval_loss)\n",
        "    _, eval_accuracies = zip(*eval_accuracy)\n",
        "\n",
        "    plt.figure(figsize=(15, 5))\n",
        "\n",
        "    # Plot Loss\n",
        "    plt.subplot(1, 3, 1)\n",
        "    plt.plot(train_steps, train_losses, label='Training Loss', marker='o')\n",
        "    plt.plot(eval_steps, eval_losses, label='Validation Loss', marker='s')\n",
        "    plt.xlabel('Steps')\n",
        "    plt.ylabel('Loss')\n",
        "    plt.title('Training and Validation Loss')\n",
        "    plt.legend()\n",
        "    plt.grid(True, alpha=0.3)\n",
        "\n",
        "    # Plot Accuracy\n",
        "    plt.subplot(1, 3, 2)\n",
        "    plt.plot(eval_steps, eval_accuracies, label='Validation Accuracy', color='green', marker='o')\n",
        "    plt.xlabel('Steps')\n",
        "    plt.ylabel('Accuracy')\n",
        "    plt.title('Validation Accuracy')\n",
        "    plt.legend()\n",
        "    plt.grid(True, alpha=0.3)\n",
        "\n",
        "    # Plot Loss Difference (Overfitting indicator)\n",
        "    plt.subplot(1, 3, 3)\n",
        "    if len(train_steps) == len(eval_steps):\n",
        "        loss_diff = [eval_loss - train_loss for train_loss, eval_loss in zip(train_losses, eval_losses)]\n",
        "        plt.plot(eval_steps, loss_diff, label='Validation - Training Loss', color='red', marker='d')\n",
        "        plt.xlabel('Steps')\n",
        "        plt.ylabel('Loss Difference')\n",
        "        plt.title('Overfitting Indicator')\n",
        "        plt.legend()\n",
        "        plt.grid(True, alpha=0.3)\n",
        "        plt.axhline(y=0, color='black', linestyle='--', alpha=0.5)\n",
        "\n",
        "    plt.tight_layout()\n",
        "    plt.show()\n",
        "\n",
        "    # Print final metrics\n",
        "    print(f\"\\nFinal Results:\")\n",
        "    print(f\"Best Validation Accuracy: {max(eval_accuracies):.4f}\")\n",
        "    print(f\"Final Validation Loss: {eval_losses[-1]:.4f}\")\n",
        "else:\n",
        "    print(\"No metrics data available for plotting.\")"
      ],
      "execution_count": null,
      "outputs": [
        {
          "output_type": "stream",
          "name": "stderr",
          "text": [
            "Some weights of DistilBertForSequenceClassification were not initialized from the model checkpoint at distilbert-base-uncased and are newly initialized: ['classifier.bias', 'classifier.weight', 'pre_classifier.bias', 'pre_classifier.weight']\n",
            "You should probably TRAIN this model on a down-stream task to be able to use it for predictions and inference.\n"
          ]
        },
        {
          "output_type": "stream",
          "name": "stdout",
          "text": [
            "Starting training with overfitting prevention...\n",
            "Early stopping will trigger if validation loss doesn't improve for 2 epochs\n"
          ]
        },
        {
          "output_type": "display_data",
          "data": {
            "text/plain": [
              "<IPython.core.display.HTML object>"
            ],
            "text/html": [
              "\n",
              "    <div>\n",
              "      \n",
              "      <progress value='372' max='1240' style='width:300px; height:20px; vertical-align: middle;'></progress>\n",
              "      [ 372/1240 00:27 < 01:03, 13.59 it/s, Epoch 6/20]\n",
              "    </div>\n",
              "    <table border=\"1\" class=\"dataframe\">\n",
              "  <thead>\n",
              " <tr style=\"text-align: left;\">\n",
              "      <th>Epoch</th>\n",
              "      <th>Training Loss</th>\n",
              "      <th>Validation Loss</th>\n",
              "      <th>Accuracy</th>\n",
              "      <th>F1</th>\n",
              "      <th>Precision</th>\n",
              "      <th>Recall</th>\n",
              "    </tr>\n",
              "  </thead>\n",
              "  <tbody>\n",
              "    <tr>\n",
              "      <td>1</td>\n",
              "      <td>0.694300</td>\n",
              "      <td>0.685514</td>\n",
              "      <td>0.812500</td>\n",
              "      <td>0.888571</td>\n",
              "      <td>0.917404</td>\n",
              "      <td>0.861496</td>\n",
              "    </tr>\n",
              "    <tr>\n",
              "      <td>2</td>\n",
              "      <td>0.637500</td>\n",
              "      <td>0.614126</td>\n",
              "      <td>0.913462</td>\n",
              "      <td>0.952381</td>\n",
              "      <td>0.911392</td>\n",
              "      <td>0.997230</td>\n",
              "    </tr>\n",
              "    <tr>\n",
              "      <td>3</td>\n",
              "      <td>0.354000</td>\n",
              "      <td>0.306720</td>\n",
              "      <td>0.949519</td>\n",
              "      <td>0.970793</td>\n",
              "      <td>0.974860</td>\n",
              "      <td>0.966759</td>\n",
              "    </tr>\n",
              "    <tr>\n",
              "      <td>4</td>\n",
              "      <td>0.267200</td>\n",
              "      <td>0.195161</td>\n",
              "      <td>0.959135</td>\n",
              "      <td>0.976422</td>\n",
              "      <td>0.977778</td>\n",
              "      <td>0.975069</td>\n",
              "    </tr>\n",
              "    <tr>\n",
              "      <td>5</td>\n",
              "      <td>0.141300</td>\n",
              "      <td>0.207783</td>\n",
              "      <td>0.961538</td>\n",
              "      <td>0.977716</td>\n",
              "      <td>0.983193</td>\n",
              "      <td>0.972299</td>\n",
              "    </tr>\n",
              "    <tr>\n",
              "      <td>6</td>\n",
              "      <td>0.334000</td>\n",
              "      <td>0.349925</td>\n",
              "      <td>0.963942</td>\n",
              "      <td>0.979536</td>\n",
              "      <td>0.965054</td>\n",
              "      <td>0.994460</td>\n",
              "    </tr>\n",
              "  </tbody>\n",
              "</table><p>"
            ]
          },
          "metadata": {}
        },
        {
          "output_type": "stream",
          "name": "stdout",
          "text": [
            "Training completed!\n"
          ]
        },
        {
          "output_type": "display_data",
          "data": {
            "text/plain": [
              "<Figure size 1500x500 with 3 Axes>"
            ],
            "image/png": "[encoded data removed]"
          },
          "metadata": {}
        },
        {
          "output_type": "stream",
          "name": "stdout",
          "text": [
            "\n",
            "Final Results:\n",
            "Best Validation Accuracy: 0.9639\n",
            "Final Validation Loss: 0.3499\n"
          ]
        }
      ]
    },
    {
      "cell_type": "code",
      "metadata": {
        "id": "0msRjZT0GP27",
        "colab": {
          "base_uri": "https://localhost:8080/",
          "height": 74
        },
        "outputId": "934e183f-df6b-4a24-f8c5-d5ab915ce83c"
      },
      "source": [
        "# Evaluate the model\n",
        "metrics = trainer.evaluate()\n",
        "print(\"Metrics:\", metrics)"
      ],
      "execution_count": null,
      "outputs": [
        {
          "output_type": "display_data",
          "data": {
            "text/plain": [
              "<IPython.core.display.HTML object>"
            ],
            "text/html": [
              "\n",
              "    <div>\n",
              "      \n",
              "      <progress value='26' max='26' style='width:300px; height:20px; vertical-align: middle;'></progress>\n",
              "      [26/26 00:00]\n",
              "    </div>\n",
              "    "
            ]
          },
          "metadata": {}
        },
        {
          "output_type": "stream",
          "name": "stdout",
          "text": [
            "Metrics: {'eval_loss': 0.19516094028949738, 'eval_accuracy': 0.9591346153846154, 'eval_f1': 0.9764216366158114, 'eval_precision': 0.9777777777777777, 'eval_recall': 0.9750692520775623, 'eval_runtime': 0.3957, 'eval_samples_per_second': 1081.594, 'eval_steps_per_second': 68.231, 'epoch': 6.0}\n"
          ]
        }
      ]
    },
    {
      "cell_type": "markdown",
      "metadata": {
        "id": "EMW1mRHGJrLC"
      },
      "source": [
        "Interpretation: Fine Tuning increase the performance.\n"
      ]
    },
    {
      "cell_type": "markdown",
      "metadata": {
        "id": "section-doc-48"
      },
      "source": [
        "### 5.2 Training Setup\n",
        "Configure training arguments and initialize the trainer with overfitting prevention techniques."
      ]
    },
    {
      "cell_type": "markdown",
      "metadata": {
        "id": "HLLsGzAkJu9a"
      },
      "source": [
        "**Save the Fine-Tuned Model**"
      ]
    },
    {
      "cell_type": "code",
      "metadata": {
        "id": "c15WyTTcGP8W",
        "colab": {
          "base_uri": "https://localhost:8080/"
        },
        "outputId": "5a44821f-ebcf-46e6-96ba-7b7ee8f1efda"
      },
      "source": [
        "# Save the fine-tuned model\n",
        "model.save_pretrained('/content/drive/MyDrive/FineTuning_Embedding_SentimentAnalysis-main/data/fine-tuned-distilbert')\n",
        "tokenizer.save_pretrained('/content/drive/MyDrive/FineTuning_Embedding_SentimentAnalysis-main/data/fine-tuned-distilbert')\n",
        "\n",
        "print(\"Fine-tuning complete and model saved.\")"
      ],
      "execution_count": null,
      "outputs": [
        {
          "output_type": "stream",
          "name": "stdout",
          "text": [
            "Fine-tuning complete and model saved.\n"
          ]
        }
      ]
    },
    {
      "cell_type": "markdown",
      "metadata": {
        "id": "section-doc-50"
      },
      "source": [
        "### 5.3 Model Training\n",
        "Train the DistilBERT model with monitoring and evaluation."
      ]
    },
    {
      "cell_type": "markdown",
      "metadata": {
        "id": "pYqzyd1kKUZV"
      },
      "source": [
        "**Load The saved Fine-Tuned model**"
      ]
    },
    {
      "cell_type": "code",
      "metadata": {
        "id": "vaE7OrMbGP_L"
      },
      "source": [
        "# Load the fine-tuned model for predictions\n",
        "def load_fine_tuned_model():\n",
        "    model = DistilBertForSequenceClassification.from_pretrained('/content/drive/MyDrive/FineTuning_Embedding_SentimentAnalysis-main/data/fine-tuned-distilbert')\n",
        "    tokenizer = DistilBertTokenizer.from_pretrained('/content/drive/MyDrive/FineTuning_Embedding_SentimentAnalysis-main/data/fine-tuned-distilbert')\n",
        "    return model, tokenizer"
      ],
      "execution_count": null,
      "outputs": []
    },
    {
      "cell_type": "markdown",
      "metadata": {
        "id": "section-doc-52"
      },
      "source": [
        "## 6. Model Evaluation\n",
        "\n",
        "### 6.1 Performance Metrics\n",
        "Evaluate the trained model using various metrics including accuracy, precision, recall, and F1-score."
      ]
    },
    {
      "cell_type": "code",
      "metadata": {
        "id": "NLWhIr4iGQCx"
      },
      "source": [
        "fine_tuned_model, fine_tuned_tokenizer = load_fine_tuned_model()"
      ],
      "execution_count": null,
      "outputs": []
    },
    {
      "cell_type": "code",
      "metadata": {
        "id": "R1DGrXiwGQJv"
      },
      "source": [
        "# Predict Sentiment based on user input\n",
        "\n",
        "def predict():\n",
        "    user_input = input(\"Enter your message: \")\n",
        "    encodings = fine_tuned_tokenizer(user_input, truncation=True, padding=True, max_length=128, return_tensors='pt')\n",
        "    with torch.no_grad():\n",
        "        outputs = fine_tuned_model(**encodings)\n",
        "    logits = outputs.logits\n",
        "    prediction = torch.argmax(logits, dim=1).item()\n",
        "    print('Prediction:', 'Positive' if prediction == 1 else 'Negative')"
      ],
      "execution_count": null,
      "outputs": []
    },
    {
      "cell_type": "code",
      "metadata": {
        "id": "L9Eq9HFpKosD",
        "colab": {
          "base_uri": "https://localhost:8080/"
        },
        "outputId": "1e36ee66-0006-45de-e7ad-b66a671248ea"
      },
      "source": [
        "predict()"
      ],
      "execution_count": null,
      "outputs": [
        {
          "output_type": "stream",
          "name": "stdout",
          "text": [
            "Enter your message: the wine was bad\n",
            "Prediction: Negative\n"
          ]
        }
      ]
    },
    {
      "cell_type": "code",
      "metadata": {
        "id": "J8V8dd2fKovX",
        "colab": {
          "base_uri": "https://localhost:8080/"
        },
        "outputId": "f13cdc81-96cc-4aa9-feb2-9fea9d07f463"
      },
      "source": [
        "predict()"
      ],
      "execution_count": null,
      "outputs": [
        {
          "output_type": "stream",
          "name": "stdout",
          "text": [
            "Enter your message: the manager is nice\n",
            "Prediction: Positive\n"
          ]
        }
      ]
    },
    {
      "cell_type": "markdown",
      "metadata": {
        "id": "section-doc-55"
      },
      "source": [
        "### 6.2 Visualization\n",
        "Visualize training progress and model performance through plots and charts."
      ]
    },
    {
      "cell_type": "markdown",
      "metadata": {
        "id": "5M_Su_YGK0Po"
      },
      "source": [
        "##### **After Fine-Tuned, the DistilBertForSequenceClassification model can predict the sentiment better**"
      ]
    },
    {
      "cell_type": "code",
      "metadata": {
        "id": "bX2WPok9Ko2h"
      },
      "source": [
        "# Get predictions for the test set\n",
        "test_encodings = fine_tuned_tokenizer(test_texts.tolist(), truncation=True, padding=True, max_length=128, return_tensors='pt')\n",
        "test_outputs = fine_tuned_model(**test_encodings)\n",
        "test_preds = torch.argmax(test_outputs.logits, dim=1).numpy()"
      ],
      "execution_count": null,
      "outputs": []
    },
    {
      "cell_type": "code",
      "metadata": {
        "id": "fLiISKZ0K57h",
        "colab": {
          "base_uri": "https://localhost:8080/"
        },
        "outputId": "698e7c91-9b0a-47bf-a3e5-7e0cc1cc95cd"
      },
      "source": [
        "# Calculate accuracy score\n",
        "accuracy = accuracy_score(test_labels, test_preds)\n",
        "print(f\"Accuracy: {accuracy:.4f}\")"
      ],
      "execution_count": null,
      "outputs": [
        {
          "output_type": "stream",
          "name": "stdout",
          "text": [
            "Accuracy: 0.9603\n"
          ]
        }
      ]
    },
    {
      "cell_type": "code",
      "metadata": {
        "id": "TyItsciZK-6u",
        "colab": {
          "base_uri": "https://localhost:8080/"
        },
        "outputId": "f676c60a-40e0-4a40-9c1a-835446e3d563"
      },
      "source": [
        "# Confusion matrix\n",
        "conf_matrix = confusion_matrix(test_labels, test_preds)\n",
        "nconf_matrix = np.round(conf_matrix / conf_matrix.sum(axis=1)[:, np.newaxis], 2)\n",
        "print(\"Confusion Matrix:\")\n",
        "print(conf_matrix)"
      ],
      "execution_count": null,
      "outputs": [
        {
          "output_type": "stream",
          "name": "stdout",
          "text": [
            "Confusion Matrix:\n",
            "[[ 50   8]\n",
            " [  9 361]]\n"
          ]
        }
      ]
    },
    {
      "cell_type": "code",
      "metadata": {
        "id": "VmGO0TTYK--1",
        "colab": {
          "base_uri": "https://localhost:8080/",
          "height": 345
        },
        "outputId": "d9563aab-273e-44ae-9404-fcd4fddbb61d"
      },
      "source": [
        "# Plot heatmap\n",
        "fig, (ax1, ax2) = plt.subplots(1, 2, figsize=(8, 4))\n",
        "sns.heatmap(conf_matrix, annot=True, cmap=plt.cm.Blues, fmt=\"d\", xticklabels=['Negative', 'Positive'], yticklabels=['Negative', 'Positive'], ax=ax1)\n",
        "ax1.set_xlabel(\"Predicted labels\")\n",
        "ax1.set_ylabel(\"True labels\")\n",
        "ax1.set_title(\"Confusion Matrix\")\n",
        "sns.heatmap(nconf_matrix, annot=True, cmap=plt.cm.Greens, fmt=\".2f\", xticklabels=['Negative', 'Positive'], yticklabels=['Negative', 'Positive'], ax=ax2)\n",
        "ax2.set_xlabel(\"Predicted labels\")\n",
        "ax2.set_ylabel(\"True labels\")\n",
        "ax2.set_title(\"Normalized Confusion Matrix\")\n",
        "\n",
        "# Add some space between the subplots\n",
        "plt.subplots_adjust(wspace=0.4)\n",
        "\n",
        "# Set the aspect ratio to \"equal\"\n",
        "ax1.set_aspect(\"equal\")\n",
        "ax2.set_aspect(\"equal\")\n",
        "\n",
        "plt.show()"
      ],
      "execution_count": null,
      "outputs": [
        {
          "output_type": "display_data",
          "data": {
            "text/plain": [
              "<Figure size 800x400 with 4 Axes>"
            ],
            "image/png": "[encoded data removed]"
          },
          "metadata": {}
        }
      ]
    },
    {
      "cell_type": "markdown",
      "metadata": {
        "id": "enhanced-doc-72"
      },
      "source": [
        "## 7. Model Deployment and Storage\n",
        "### 7.1 Save Model and Tokenizer to Hugging Face Hub\n",
        "\n",
        "After successfully training our DistilBERT model, we need to save and deploy it for future use. Hugging Face Hub provides an excellent platform for hosting machine learning models with the following benefits:\n",
        "\n",
        "**Uploaded:**\n",
        "- **model.safetensors** (261 MB) - fine-tuned weights\n",
        "- **tokenizer.json** - Tokenizer configuration\n",
        "- **config.json** - Model configuration  \n",
        "- **vocab.txt** - Vocabulary file\n",
        "- **README.md** - Model documentation\n",
        "\n",
        "This is to solve GitHub file size limitation (100MB) while making the model easily accessible to others.\n"
      ]
    },
    {
      "cell_type": "markdown",
      "source": [
        "# **Save Model and Tokenizer to Hugging Face**"
      ],
      "metadata": {
        "id": "4J0CMJUcr2XQ"
      }
    },
    {
      "cell_type": "markdown",
      "metadata": {
        "id": "enhanced-doc-73"
      },
      "source": [
        "### 7.2 Install Hugging Face Hub\n",
        "First, we need to install the Hugging Face Hub library to enable model uploading functionality.\n"
      ]
    },
    {
      "cell_type": "code",
      "source": [
        "!pip install -qqq huggingface_hub"
      ],
      "metadata": {
        "id": "0D2cymJjr9cT"
      },
      "execution_count": 1,
      "outputs": []
    },
    {
      "cell_type": "markdown",
      "metadata": {
        "id": "enhanced-doc-74"
      },
      "source": [
        "### 7.3 Authentication Setup\n",
        "To upload models to Hugging Face Hub, we need to authenticate using an access token.\n",
        "\n",
        "**Steps to get your token:**\n",
        "1. Go to https://huggingface.co/settings/tokens\n",
        "2. Click \"New token\"\n",
        "3. Select \"Write\" permissions (required for uploading)\n",
        "4. Copy the token (starts with )\n",
        "\n",
        "**Security Note:** The  function hides your token input for security.\n"
      ]
    },
    {
      "cell_type": "code",
      "source": [
        "from huggingface_hub import login\n",
        "import getpass\n",
        "from huggingface_hub import login\n",
        "\n",
        "# Secure token input (token will be hidden)\n",
        "print(\"Please enter your Hugging Face token:\")\n",
        "print(\"Get it from: https://huggingface.co/settings/tokens\" )\n",
        "token = getpass.getpass(\"HF Token: \")\n",
        "\n",
        "# Login with the token\n",
        "try:\n",
        "    login(token=token)\n",
        "    print(\"Successfully logged in!\")\n",
        "except Exception as e:\n",
        "    print(f\"Login failed: {e}\")"
      ],
      "metadata": {
        "colab": {
          "base_uri": "https://localhost:8080/"
        },
        "id": "b_xBFMjxtDQP",
        "outputId": "ad840f54-576b-4a32-ff41-46bb9f3f5c7b"
      },
      "execution_count": 2,
      "outputs": [
        {
          "output_type": "stream",
          "name": "stdout",
          "text": [
            "Please enter your Hugging Face token:\n",
            "Get it from: https://huggingface.co/settings/tokens\n",
            "HF Token: ··········\n",
            "Successfully logged in!\n"
          ]
        }
      ]
    },
    {
      "cell_type": "markdown",
      "source": [
        "# **Upload Model and Tokenizer to Hugging Face**"
      ],
      "metadata": {
        "id": "msU-UHbZwUI6"
      }
    },
    {
      "cell_type": "markdown",
      "metadata": {
        "id": "enhanced-doc-76"
      },
      "source": [
        "### 7.4 Upload Model and Tokenizer to Hugging Face Hub\n",
        "This section uploads both the fine-tuned model and tokenizer to your Hugging Face repository.\n",
        "\n",
        "**Upload Process:**\n",
        "1. **Model Upload**: Uploads the 261MB model.safetensors file\n",
        "2. **Tokenizer Upload**: Uploads tokenizer configuration and vocabulary\n",
        "3. **Local Backup**: Saves a copy to Google Drive as backup\n",
        "4. **Error Handling**: Falls back to local save if upload fails\n",
        "\n",
        "**Repository Structure Created:**\n",
        "-  - Model configuration,Trained model weights, Tokenizer configuration, Vocabulary mapping, Auto-generated model card\n"
      ]
    },
    {
      "cell_type": "code",
      "source": [
        "repo_name = \"RinInori/distilbert-restaurant-sentiment\""
      ],
      "metadata": {
        "id": "O_d2kssCxUrx"
      },
      "execution_count": 3,
      "outputs": []
    },
    {
      "cell_type": "code",
      "source": [
        "# Upload directly to Hugging Face\n",
        "\n",
        "print(\"Uploading model and tokenizer to Hugging Face Hub...\")\n",
        "\n",
        "try:\n",
        "    # Upload model directly after training\n",
        "    print(\"Uploading model...\")\n",
        "    model.push_to_hub(repo_name)\n",
        "    print(\"Model uploaded successfully!\")\n",
        "\n",
        "    # Upload tokenizer\n",
        "    print(\"Uploading tokenizer...\")\n",
        "    tokenizer.push_to_hub(repo_name)\n",
        "    print(\"Tokenizer uploaded successfully!\")\n",
        "\n",
        "    print(f\"Fine-tuning complete and model uploaded!\")\n",
        "    print(f\"View your model at: https://huggingface.co/{repo_name}\" )\n",
        "\n",
        "    # Optional: Also save locally as backup\n",
        "    local_path = '/content/drive/MyDrive/FineTuning_Embedding_SentimentAnalysis-main/data/fine-tuned-distilbert'\n",
        "    model.save_pretrained(local_path)\n",
        "    tokenizer.save_pretrained(local_path)\n",
        "    print(f\"Also saved locally as backup at: {local_path}\")\n",
        "\n",
        "except Exception as e:\n",
        "    print(f\"Upload failed: {e}\")\n",
        "    print(\"Saving locally as fallback...\")\n",
        "\n",
        "    # Fallback: save locally if upload fails\n",
        "    local_path = '/content/drive/MyDrive/FineTuning_Embedding_SentimentAnalysis-main/data/fine-tuned-distilbert'\n",
        "    model.save_pretrained(local_path)\n",
        "    tokenizer.save_pretrained(local_path)\n",
        "    print(f\"Model saved locally at: {local_path}\")\n"
      ],
      "metadata": {
        "id": "OhtMIUAYvhhQ"
      },
      "execution_count": 4,
      "outputs": []
    },
    {
      "cell_type": "markdown",
      "metadata": {
        "id": "enhanced-doc-78"
      },
      "source": [
        "### 7.5 Model Access Information\n",
        "Once uploaded, the model becomes publicly accessible through these URLs\n"
      ]
    },
    {
      "cell_type": "markdown",
      "source": [
        "Model URLs:\n",
        "\n",
        "Model Page: https://huggingface.co/RinInori/distilbert-restaurant-sentiment\n",
        "\n",
        "Files: https://huggingface.co/RinInori/distilbert-restaurant-sentiment/tree/main"
      ],
      "metadata": {
        "id": "S2cQJmMQuXAZ"
      }
    },
    {
      "cell_type": "markdown",
      "metadata": {
        "id": "enhanced-doc-79"
      },
      "source": [
        "### 7.6 Public Model Usage Example\n",
        "Anyone can load and use my uploaded model with just two lines of code. Model easily accessible to the machine learning community.\n"
      ]
    },
    {
      "cell_type": "code",
      "source": [
        "from transformers import DistilBertTokenizer, DistilBertForSequenceClassification\n",
        "\n",
        "model = DistilBertForSequenceClassification.from_pretrained(\"RinInori/distilbert-restaurant-sentiment\")\n",
        "\n",
        "tokenizer = DistilBertTokenizer.from_pretrained(\"RinInori/distilbert-restaurant-sentiment\" )"
      ],
      "metadata": {
        "id": "caZ9JNNFyIs1",
        "colab": {
          "base_uri": "https://localhost:8080/",
          "height": 281,
          "referenced_widgets": [
            "c6e724f905174a96ad9bccd2aec312a5",
            "40835127550d46c58a8a9ad80871ef21",
            "4966210b0dee4b5eac2321e7644dc2c1",
            "3c16869351274b3798cc8d4eac9e79ca",
            "4a20e489227a437aa85ba99afa093dbf",
            "cf602602bc5e4b6480cc24f69278a9ab",
            "800f281c3bbd42c0b7a3f60257ebe553",
            "b0e843a8de4e4aeda91378c8b8967850",
            "ba7957c6f7cd451b90465d82c53f7125",
            "2c26ba12c29f44ea8cbbaada9e7e6f9d",
            "470738779c3a4be99e4af2fc326c6c8d",
            "ac064315095046aa8cf333b53fb27f63",
            "33668da3d63b4d369a5e290a34fc94cf",
            "a42ad31faaec4aaaa5c5b956de7a2454",
            "dbb522dad0124e7380149e46cd76bd6e",
            "d88e86b3fdc646f48f4e246059cb7e30",
            "b8a23e8230a64422a198de4bcb5eb08e",
            "b26a387beb9d4e5ba49392f2406a4df4",
            "b769122a8b6344d1b192f358a3744d1b",
            "c75b2ffec226485cbea6e1487943d504",
            "eed5c9d10e0742aa9a2a044cdd8dbf3f",
            "97a1d65248eb45f8ac14b55cbf119f3e",
            "d1410e62d1c942538a49988debd0bd34",
            "cfbe0f96567547d39d3567b37b8c0905",
            "7268ec841c8046f0a7c7b0620a87df0d",
            "55ee3230635546c09d645db288524708",
            "73d7a40bebdf4331a10621b84ff3ad58",
            "918be96d5315465db597eb367e5e37b0",
            "9892b2c051284a76b276ad4c1fef3fe4",
            "47e65b1e96cb42f8bcac420fe8f86840",
            "8dd6733281334557aff7318d95429a4e",
            "d3aacc0a635e43139214c89f98a265bf",
            "fb52bf8aed3446fdba53e707543170d1",
            "5a4fddfe1815478e9456e5afca491733",
            "8ed16c7ff27048a892a7e1481188cda2",
            "25bc402554004003a4eadff76058372a",
            "ca85db3ec058432ba76e4c08322cc29e",
            "d1108181991e4fcab9b869499fbb099c",
            "00e6cb8f10a64ce593eae8b14a67f06e",
            "9110e31aa3d544a6ae383c4cd095f8a1",
            "965ea88d4b58434695c3d01dcf23a435",
            "b42a58e85149407d9653166bd4de0366",
            "b44673e85c8d4046839c31100b69bae9",
            "050fd68c92f341e7a2e5f9cea4e67174",
            "631e41f5ae9d4c68bca7e29ca099a06b",
            "09b7cdea642b42d299f1f30cc3ba2480",
            "a4dabb2ff7a84474bd56307a18201937",
            "2e14e10ea82348098889ab9bdeb77a17",
            "a622b0dddf3d4c8b8bbc60057dd6ef69",
            "b0f705b20b1746cba54ee7d87bd19cba",
            "5f44b839bbe34fa4a95acd2f3d2c1298",
            "e9b2246caeb4462fa35a7b90f2392cb6",
            "82d1381d8a5449bcad6a9ba4cc403f67",
            "e3643b78bbb6477fa46c5eb4566cc2a8",
            "2bd5dbb40d4d4de09d30f53835ee81ff"
          ]
        },
        "outputId": "76785c25-e81b-4f30-8cc7-51e38f36ac08"
      },
      "execution_count": 5,
      "outputs": [
        {
          "output_type": "stream",
          "name": "stderr",
          "text": [
            "/usr/local/lib/python3.11/dist-packages/huggingface_hub/utils/_auth.py:94: UserWarning: \n",
            "The secret `HF_TOKEN` does not exist in your Colab secrets.\n",
            "To authenticate with the Hugging Face Hub, create a token in your settings tab (https://huggingface.co/settings/tokens), set it as secret in your Google Colab and restart your session.\n",
            "You will be able to reuse this secret in all of your notebooks.\n",
            "Please note that authentication is recommended but still optional to access public models or datasets.\n",
            "  warnings.warn(\n"
          ]
        },
        {
          "output_type": "display_data",
          "data": {
            "text/plain": [
              "config.json:   0%|          | 0.00/520 [00:00<?, ?B/s]"
            ],
            "application/vnd.jupyter.widget-view+json": {
              "version_major": 2,
              "version_minor": 0,
              "model_id": "c6e724f905174a96ad9bccd2aec312a5"
            }
          },
          "metadata": {}
        },
        {
          "output_type": "display_data",
          "data": {
            "text/plain": [
              "model.safetensors:   0%|          | 0.00/268M [00:00<?, ?B/s]"
            ],
            "application/vnd.jupyter.widget-view+json": {
              "version_major": 2,
              "version_minor": 0,
              "model_id": "ac064315095046aa8cf333b53fb27f63"
            }
          },
          "metadata": {}
        },
        {
          "output_type": "display_data",
          "data": {
            "text/plain": [
              "tokenizer_config.json:   0%|          | 0.00/1.28k [00:00<?, ?B/s]"
            ],
            "application/vnd.jupyter.widget-view+json": {
              "version_major": 2,
              "version_minor": 0,
              "model_id": "d1410e62d1c942538a49988debd0bd34"
            }
          },
          "metadata": {}
        },
        {
          "output_type": "display_data",
          "data": {
            "text/plain": [
              "vocab.txt:   0%|          | 0.00/232k [00:00<?, ?B/s]"
            ],
            "application/vnd.jupyter.widget-view+json": {
              "version_major": 2,
              "version_minor": 0,
              "model_id": "5a4fddfe1815478e9456e5afca491733"
            }
          },
          "metadata": {}
        },
        {
          "output_type": "display_data",
          "data": {
            "text/plain": [
              "special_tokens_map.json:   0%|          | 0.00/125 [00:00<?, ?B/s]"
            ],
            "application/vnd.jupyter.widget-view+json": {
              "version_major": 2,
              "version_minor": 0,
              "model_id": "631e41f5ae9d4c68bca7e29ca099a06b"
            }
          },
          "metadata": {}
        }
      ]
    },
    {
      "cell_type": "markdown",
      "metadata": {
        "id": "enhanced-doc-81"
      },
      "source": [
        "## 8. Model Validation and Testing\n",
        "### 8.1 Load and Test Model from Hugging Face Hub\n",
        "\n",
        "After uploading, will verify that the model works correctly when loaded from Hugging Face Hub."
      ]
    },
    {
      "cell_type": "markdown",
      "source": [
        "# **Load the Model and Tokenizer from Hugging Face**"
      ],
      "metadata": {
        "id": "fDKZV3M8xAAb"
      }
    },
    {
      "cell_type": "code",
      "source": [
        "# Test loading from Hugging Face Hub\n",
        "print(\"Testing uploaded model...\")\n",
        "\n",
        "try:\n",
        "    from transformers import DistilBertTokenizer, DistilBertForSequenceClassification\n",
        "    import torch\n",
        "\n",
        "    # Load from your uploaded repository\n",
        "    test_tokenizer = DistilBertTokenizer.from_pretrained(repo_name)\n",
        "    test_model = DistilBertForSequenceClassification.from_pretrained(repo_name)\n",
        "\n",
        "    print(\"Successfully loaded from Hugging Face Hub!\")\n",
        "\n",
        "    # Quick test\n",
        "    test_text = \"The restaurant had amazing food and excellent service!\"\n",
        "    inputs = test_tokenizer(test_text, return_tensors=\"pt\", truncation=True, padding=True)\n",
        "\n",
        "    with torch.no_grad():\n",
        "        outputs = test_model(**inputs)\n",
        "        predictions = torch.nn.functional.softmax(outputs.logits, dim=-1)\n",
        "        predicted_class = torch.argmax(predictions, dim=-1).item()\n",
        "        confidence = predictions[0][predicted_class].item()\n",
        "\n",
        "        sentiment = \"Positive\" if predicted_class == 1 else \"Negative\"\n",
        "\n",
        "    print(f\"Test Result: {sentiment} (confidence: {confidence:.4f})\")\n",
        "\n",
        "except Exception as e:\n",
        "    print(f\"Test failed: {e}\")\n"
      ],
      "metadata": {
        "colab": {
          "base_uri": "https://localhost:8080/",
          "height": 229,
          "referenced_widgets": [
            "105d2225eb2d4ce188db7d1aadbda347",
            "0a8c7bf036a84ac68d25a83cf42e110d",
            "590ace57100543de844d6d93f15ab7ee",
            "99e03682b8224e7e8139c4309f5ba5db",
            "7f05504ab4bb49599c76961fc43a1579"
          ]
        },
        "id": "UF_7xhzbw_Lu",
        "outputId": "f0d155f6-c3d5-45f9-b4a5-09323eed0d60"
      },
      "execution_count": null,
      "outputs": [
        {
          "output_type": "stream",
          "name": "stdout",
          "text": [
            "Testing uploaded model...\n"
          ]
        },
        {
          "output_type": "display_data",
          "data": {
            "text/plain": [
              "tokenizer_config.json:   0%|          | 0.00/1.28k [00:00<?, ?B/s]"
            ],
            "application/vnd.jupyter.widget-view+json": {
              "version_major": 2,
              "version_minor": 0,
              "model_id": "105d2225eb2d4ce188db7d1aadbda347"
            }
          },
          "metadata": {}
        },
        {
          "output_type": "display_data",
          "data": {
            "text/plain": [
              "vocab.txt:   0%|          | 0.00/232k [00:00<?, ?B/s]"
            ],
            "application/vnd.jupyter.widget-view+json": {
              "version_major": 2,
              "version_minor": 0,
              "model_id": "0a8c7bf036a84ac68d25a83cf42e110d"
            }
          },
          "metadata": {}
        },
        {
          "output_type": "display_data",
          "data": {
            "text/plain": [
              "special_tokens_map.json:   0%|          | 0.00/125 [00:00<?, ?B/s]"
            ],
            "application/vnd.jupyter.widget-view+json": {
              "version_major": 2,
              "version_minor": 0,
              "model_id": "590ace57100543de844d6d93f15ab7ee"
            }
          },
          "metadata": {}
        },
        {
          "output_type": "display_data",
          "data": {
            "text/plain": [
              "config.json:   0%|          | 0.00/520 [00:00<?, ?B/s]"
            ],
            "application/vnd.jupyter.widget-view+json": {
              "version_major": 2,
              "version_minor": 0,
              "model_id": "99e03682b8224e7e8139c4309f5ba5db"
            }
          },
          "metadata": {}
        },
        {
          "output_type": "display_data",
          "data": {
            "text/plain": [
              "model.safetensors:   0%|          | 0.00/268M [00:00<?, ?B/s]"
            ],
            "application/vnd.jupyter.widget-view+json": {
              "version_major": 2,
              "version_minor": 0,
              "model_id": "7f05504ab4bb49599c76961fc43a1579"
            }
          },
          "metadata": {}
        },
        {
          "output_type": "stream",
          "name": "stdout",
          "text": [
            "Successfully loaded from Hugging Face Hub!\n",
            "Test Result: Positive (confidence: 0.9553)\n"
          ]
        }
      ]
    }
  ],
  "metadata": {
    "colab": {
      "provenance": [],
      "gpuType": "A100"
    },
    "kernelspec": {
      "display_name": "Python 3",
      "name": "python3"
    },
    "language_info": {
      "name": "python",
      "version": "3.12.4"
    },
    "accelerator": "GPU",
    "widgets": {
      "application/vnd.jupyter.widget-state+json": {
        "c6e724f905174a96ad9bccd2aec312a5": {
          "model_module": "@jupyter-widgets/controls",
          "model_name": "HBoxModel",
          "model_module_version": "1.5.0",
          "state": {
            "_dom_classes": [],
            "_model_module": "@jupyter-widgets/controls",
            "_model_module_version": "1.5.0",
            "_model_name": "HBoxModel",
            "_view_count": null,
            "_view_module": "@jupyter-widgets/controls",
            "_view_module_version": "1.5.0",
            "_view_name": "HBoxView",
            "box_style": "",
            "children": [
              "IPY_MODEL_40835127550d46c58a8a9ad80871ef21",
              "IPY_MODEL_4966210b0dee4b5eac2321e7644dc2c1",
              "IPY_MODEL_3c16869351274b3798cc8d4eac9e79ca"
            ],
            "layout": "IPY_MODEL_4a20e489227a437aa85ba99afa093dbf"
          }
        },
        "40835127550d46c58a8a9ad80871ef21": {
          "model_module": "@jupyter-widgets/controls",
          "model_name": "HTMLModel",
          "model_module_version": "1.5.0",
          "state": {
            "_dom_classes": [],
            "_model_module": "@jupyter-widgets/controls",
            "_model_module_version": "1.5.0",
            "_model_name": "HTMLModel",
            "_view_count": null,
            "_view_module": "@jupyter-widgets/controls",
            "_view_module_version": "1.5.0",
            "_view_name": "HTMLView",
            "description": "",
            "description_tooltip": null,
            "layout": "IPY_MODEL_cf602602bc5e4b6480cc24f69278a9ab",
            "placeholder": "​",
            "style": "IPY_MODEL_800f281c3bbd42c0b7a3f60257ebe553",
            "value": "config.json: 100%"
          }
        },
        "4966210b0dee4b5eac2321e7644dc2c1": {
          "model_module": "@jupyter-widgets/controls",
          "model_name": "FloatProgressModel",
          "model_module_version": "1.5.0",
          "state": {
            "_dom_classes": [],
            "_model_module": "@jupyter-widgets/controls",
            "_model_module_version": "1.5.0",
            "_model_name": "FloatProgressModel",
            "_view_count": null,
            "_view_module": "@jupyter-widgets/controls",
            "_view_module_version": "1.5.0",
            "_view_name": "ProgressView",
            "bar_style": "success",
            "description": "",
            "description_tooltip": null,
            "layout": "IPY_MODEL_b0e843a8de4e4aeda91378c8b8967850",
            "max": 520,
            "min": 0,
            "orientation": "horizontal",
            "style": "IPY_MODEL_ba7957c6f7cd451b90465d82c53f7125",
            "value": 520
          }
        },
        "3c16869351274b3798cc8d4eac9e79ca": {
          "model_module": "@jupyter-widgets/controls",
          "model_name": "HTMLModel",
          "model_module_version": "1.5.0",
          "state": {
            "_dom_classes": [],
            "_model_module": "@jupyter-widgets/controls",
            "_model_module_version": "1.5.0",
            "_model_name": "HTMLModel",
            "_view_count": null,
            "_view_module": "@jupyter-widgets/controls",
            "_view_module_version": "1.5.0",
            "_view_name": "HTMLView",
            "description": "",
            "description_tooltip": null,
            "layout": "IPY_MODEL_2c26ba12c29f44ea8cbbaada9e7e6f9d",
            "placeholder": "​",
            "style": "IPY_MODEL_470738779c3a4be99e4af2fc326c6c8d",
            "value": " 520/520 [00:00&lt;00:00, 59.7kB/s]"
          }
        },
        "4a20e489227a437aa85ba99afa093dbf": {
          "model_module": "@jupyter-widgets/base",
          "model_name": "LayoutModel",
          "model_module_version": "1.2.0",
          "state": {
            "_model_module": "@jupyter-widgets/base",
            "_model_module_version": "1.2.0",
            "_model_name": "LayoutModel",
            "_view_count": null,
            "_view_module": "@jupyter-widgets/base",
            "_view_module_version": "1.2.0",
            "_view_name": "LayoutView",
            "align_content": null,
            "align_items": null,
            "align_self": null,
            "border": null,
            "bottom": null,
            "display": null,
            "flex": null,
            "flex_flow": null,
            "grid_area": null,
            "grid_auto_columns": null,
            "grid_auto_flow": null,
            "grid_auto_rows": null,
            "grid_column": null,
            "grid_gap": null,
            "grid_row": null,
            "grid_template_areas": null,
            "grid_template_columns": null,
            "grid_template_rows": null,
            "height": null,
            "justify_content": null,
            "justify_items": null,
            "left": null,
            "margin": null,
            "max_height": null,
            "max_width": null,
            "min_height": null,
            "min_width": null,
            "object_fit": null,
            "object_position": null,
            "order": null,
            "overflow": null,
            "overflow_x": null,
            "overflow_y": null,
            "padding": null,
            "right": null,
            "top": null,
            "visibility": null,
            "width": null
          }
        },
        "cf602602bc5e4b6480cc24f69278a9ab": {
          "model_module": "@jupyter-widgets/base",
          "model_name": "LayoutModel",
          "model_module_version": "1.2.0",
          "state": {
            "_model_module": "@jupyter-widgets/base",
            "_model_module_version": "1.2.0",
            "_model_name": "LayoutModel",
            "_view_count": null,
            "_view_module": "@jupyter-widgets/base",
            "_view_module_version": "1.2.0",
            "_view_name": "LayoutView",
            "align_content": null,
            "align_items": null,
            "align_self": null,
            "border": null,
            "bottom": null,
            "display": null,
            "flex": null,
            "flex_flow": null,
            "grid_area": null,
            "grid_auto_columns": null,
            "grid_auto_flow": null,
            "grid_auto_rows": null,
            "grid_column": null,
            "grid_gap": null,
            "grid_row": null,
            "grid_template_areas": null,
            "grid_template_columns": null,
            "grid_template_rows": null,
            "height": null,
            "justify_content": null,
            "justify_items": null,
            "left": null,
            "margin": null,
            "max_height": null,
            "max_width": null,
            "min_height": null,
            "min_width": null,
            "object_fit": null,
            "object_position": null,
            "order": null,
            "overflow": null,
            "overflow_x": null,
            "overflow_y": null,
            "padding": null,
            "right": null,
            "top": null,
            "visibility": null,
            "width": null
          }
        },
        "800f281c3bbd42c0b7a3f60257ebe553": {
          "model_module": "@jupyter-widgets/controls",
          "model_name": "DescriptionStyleModel",
          "model_module_version": "1.5.0",
          "state": {
            "_model_module": "@jupyter-widgets/controls",
            "_model_module_version": "1.5.0",
            "_model_name": "DescriptionStyleModel",
            "_view_count": null,
            "_view_module": "@jupyter-widgets/base",
            "_view_module_version": "1.2.0",
            "_view_name": "StyleView",
            "description_width": ""
          }
        },
        "b0e843a8de4e4aeda91378c8b8967850": {
          "model_module": "@jupyter-widgets/base",
          "model_name": "LayoutModel",
          "model_module_version": "1.2.0",
          "state": {
            "_model_module": "@jupyter-widgets/base",
            "_model_module_version": "1.2.0",
            "_model_name": "LayoutModel",
            "_view_count": null,
            "_view_module": "@jupyter-widgets/base",
            "_view_module_version": "1.2.0",
            "_view_name": "LayoutView",
            "align_content": null,
            "align_items": null,
            "align_self": null,
            "border": null,
            "bottom": null,
            "display": null,
            "flex": null,
            "flex_flow": null,
            "grid_area": null,
            "grid_auto_columns": null,
            "grid_auto_flow": null,
            "grid_auto_rows": null,
            "grid_column": null,
            "grid_gap": null,
            "grid_row": null,
            "grid_template_areas": null,
            "grid_template_columns": null,
            "grid_template_rows": null,
            "height": null,
            "justify_content": null,
            "justify_items": null,
            "left": null,
            "margin": null,
            "max_height": null,
            "max_width": null,
            "min_height": null,
            "min_width": null,
            "object_fit": null,
            "object_position": null,
            "order": null,
            "overflow": null,
            "overflow_x": null,
            "overflow_y": null,
            "padding": null,
            "right": null,
            "top": null,
            "visibility": null,
            "width": null
          }
        },
        "ba7957c6f7cd451b90465d82c53f7125": {
          "model_module": "@jupyter-widgets/controls",
          "model_name": "ProgressStyleModel",
          "model_module_version": "1.5.0",
          "state": {
            "_model_module": "@jupyter-widgets/controls",
            "_model_module_version": "1.5.0",
            "_model_name": "ProgressStyleModel",
            "_view_count": null,
            "_view_module": "@jupyter-widgets/base",
            "_view_module_version": "1.2.0",
            "_view_name": "StyleView",
            "bar_color": null,
            "description_width": ""
          }
        },
        "2c26ba12c29f44ea8cbbaada9e7e6f9d": {
          "model_module": "@jupyter-widgets/base",
          "model_name": "LayoutModel",
          "model_module_version": "1.2.0",
          "state": {
            "_model_module": "@jupyter-widgets/base",
            "_model_module_version": "1.2.0",
            "_model_name": "LayoutModel",
            "_view_count": null,
            "_view_module": "@jupyter-widgets/base",
            "_view_module_version": "1.2.0",
            "_view_name": "LayoutView",
            "align_content": null,
            "align_items": null,
            "align_self": null,
            "border": null,
            "bottom": null,
            "display": null,
            "flex": null,
            "flex_flow": null,
            "grid_area": null,
            "grid_auto_columns": null,
            "grid_auto_flow": null,
            "grid_auto_rows": null,
            "grid_column": null,
            "grid_gap": null,
            "grid_row": null,
            "grid_template_areas": null,
            "grid_template_columns": null,
            "grid_template_rows": null,
            "height": null,
            "justify_content": null,
            "justify_items": null,
            "left": null,
            "margin": null,
            "max_height": null,
            "max_width": null,
            "min_height": null,
            "min_width": null,
            "object_fit": null,
            "object_position": null,
            "order": null,
            "overflow": null,
            "overflow_x": null,
            "overflow_y": null,
            "padding": null,
            "right": null,
            "top": null,
            "visibility": null,
            "width": null
          }
        },
        "470738779c3a4be99e4af2fc326c6c8d": {
          "model_module": "@jupyter-widgets/controls",
          "model_name": "DescriptionStyleModel",
          "model_module_version": "1.5.0",
          "state": {
            "_model_module": "@jupyter-widgets/controls",
            "_model_module_version": "1.5.0",
            "_model_name": "DescriptionStyleModel",
            "_view_count": null,
            "_view_module": "@jupyter-widgets/base",
            "_view_module_version": "1.2.0",
            "_view_name": "StyleView",
            "description_width": ""
          }
        },
        "ac064315095046aa8cf333b53fb27f63": {
          "model_module": "@jupyter-widgets/controls",
          "model_name": "HBoxModel",
          "model_module_version": "1.5.0",
          "state": {
            "_dom_classes": [],
            "_model_module": "@jupyter-widgets/controls",
            "_model_module_version": "1.5.0",
            "_model_name": "HBoxModel",
            "_view_count": null,
            "_view_module": "@jupyter-widgets/controls",
            "_view_module_version": "1.5.0",
            "_view_name": "HBoxView",
            "box_style": "",
            "children": [
              "IPY_MODEL_33668da3d63b4d369a5e290a34fc94cf",
              "IPY_MODEL_a42ad31faaec4aaaa5c5b956de7a2454",
              "IPY_MODEL_dbb522dad0124e7380149e46cd76bd6e"
            ],
            "layout": "IPY_MODEL_d88e86b3fdc646f48f4e246059cb7e30"
          }
        },
        "33668da3d63b4d369a5e290a34fc94cf": {
          "model_module": "@jupyter-widgets/controls",
          "model_name": "HTMLModel",
          "model_module_version": "1.5.0",
          "state": {
            "_dom_classes": [],
            "_model_module": "@jupyter-widgets/controls",
            "_model_module_version": "1.5.0",
            "_model_name": "HTMLModel",
            "_view_count": null,
            "_view_module": "@jupyter-widgets/controls",
            "_view_module_version": "1.5.0",
            "_view_name": "HTMLView",
            "description": "",
            "description_tooltip": null,
            "layout": "IPY_MODEL_b8a23e8230a64422a198de4bcb5eb08e",
            "placeholder": "​",
            "style": "IPY_MODEL_b26a387beb9d4e5ba49392f2406a4df4",
            "value": "model.safetensors: 100%"
          }
        },
        "a42ad31faaec4aaaa5c5b956de7a2454": {
          "model_module": "@jupyter-widgets/controls",
          "model_name": "FloatProgressModel",
          "model_module_version": "1.5.0",
          "state": {
            "_dom_classes": [],
            "_model_module": "@jupyter-widgets/controls",
            "_model_module_version": "1.5.0",
            "_model_name": "FloatProgressModel",
            "_view_count": null,
            "_view_module": "@jupyter-widgets/controls",
            "_view_module_version": "1.5.0",
            "_view_name": "ProgressView",
            "bar_style": "success",
            "description": "",
            "description_tooltip": null,
            "layout": "IPY_MODEL_b769122a8b6344d1b192f358a3744d1b",
            "max": 267832560,
            "min": 0,
            "orientation": "horizontal",
            "style": "IPY_MODEL_c75b2ffec226485cbea6e1487943d504",
            "value": 267832560
          }
        },
        "dbb522dad0124e7380149e46cd76bd6e": {
          "model_module": "@jupyter-widgets/controls",
          "model_name": "HTMLModel",
          "model_module_version": "1.5.0",
          "state": {
            "_dom_classes": [],
            "_model_module": "@jupyter-widgets/controls",
            "_model_module_version": "1.5.0",
            "_model_name": "HTMLModel",
            "_view_count": null,
            "_view_module": "@jupyter-widgets/controls",
            "_view_module_version": "1.5.0",
            "_view_name": "HTMLView",
            "description": "",
            "description_tooltip": null,
            "layout": "IPY_MODEL_eed5c9d10e0742aa9a2a044cdd8dbf3f",
            "placeholder": "​",
            "style": "IPY_MODEL_97a1d65248eb45f8ac14b55cbf119f3e",
            "value": " 268M/268M [00:02&lt;00:00, 131MB/s]"
          }
        },
        "d88e86b3fdc646f48f4e246059cb7e30": {
          "model_module": "@jupyter-widgets/base",
          "model_name": "LayoutModel",
          "model_module_version": "1.2.0",
          "state": {
            "_model_module": "@jupyter-widgets/base",
            "_model_module_version": "1.2.0",
            "_model_name": "LayoutModel",
            "_view_count": null,
            "_view_module": "@jupyter-widgets/base",
            "_view_module_version": "1.2.0",
            "_view_name": "LayoutView",
            "align_content": null,
            "align_items": null,
            "align_self": null,
            "border": null,
            "bottom": null,
            "display": null,
            "flex": null,
            "flex_flow": null,
            "grid_area": null,
            "grid_auto_columns": null,
            "grid_auto_flow": null,
            "grid_auto_rows": null,
            "grid_column": null,
            "grid_gap": null,
            "grid_row": null,
            "grid_template_areas": null,
            "grid_template_columns": null,
            "grid_template_rows": null,
            "height": null,
            "justify_content": null,
            "justify_items": null,
            "left": null,
            "margin": null,
            "max_height": null,
            "max_width": null,
            "min_height": null,
            "min_width": null,
            "object_fit": null,
            "object_position": null,
            "order": null,
            "overflow": null,
            "overflow_x": null,
            "overflow_y": null,
            "padding": null,
            "right": null,
            "top": null,
            "visibility": null,
            "width": null
          }
        },
        "b8a23e8230a64422a198de4bcb5eb08e": {
          "model_module": "@jupyter-widgets/base",
          "model_name": "LayoutModel",
          "model_module_version": "1.2.0",
          "state": {
            "_model_module": "@jupyter-widgets/base",
            "_model_module_version": "1.2.0",
            "_model_name": "LayoutModel",
            "_view_count": null,
            "_view_module": "@jupyter-widgets/base",
            "_view_module_version": "1.2.0",
            "_view_name": "LayoutView",
            "align_content": null,
            "align_items": null,
            "align_self": null,
            "border": null,
            "bottom": null,
            "display": null,
            "flex": null,
            "flex_flow": null,
            "grid_area": null,
            "grid_auto_columns": null,
            "grid_auto_flow": null,
            "grid_auto_rows": null,
            "grid_column": null,
            "grid_gap": null,
            "grid_row": null,
            "grid_template_areas": null,
            "grid_template_columns": null,
            "grid_template_rows": null,
            "height": null,
            "justify_content": null,
            "justify_items": null,
            "left": null,
            "margin": null,
            "max_height": null,
            "max_width": null,
            "min_height": null,
            "min_width": null,
            "object_fit": null,
            "object_position": null,
            "order": null,
            "overflow": null,
            "overflow_x": null,
            "overflow_y": null,
            "padding": null,
            "right": null,
            "top": null,
            "visibility": null,
            "width": null
          }
        },
        "b26a387beb9d4e5ba49392f2406a4df4": {
          "model_module": "@jupyter-widgets/controls",
          "model_name": "DescriptionStyleModel",
          "model_module_version": "1.5.0",
          "state": {
            "_model_module": "@jupyter-widgets/controls",
            "_model_module_version": "1.5.0",
            "_model_name": "DescriptionStyleModel",
            "_view_count": null,
            "_view_module": "@jupyter-widgets/base",
            "_view_module_version": "1.2.0",
            "_view_name": "StyleView",
            "description_width": ""
          }
        },
        "b769122a8b6344d1b192f358a3744d1b": {
          "model_module": "@jupyter-widgets/base",
          "model_name": "LayoutModel",
          "model_module_version": "1.2.0",
          "state": {
            "_model_module": "@jupyter-widgets/base",
            "_model_module_version": "1.2.0",
            "_model_name": "LayoutModel",
            "_view_count": null,
            "_view_module": "@jupyter-widgets/base",
            "_view_module_version": "1.2.0",
            "_view_name": "LayoutView",
            "align_content": null,
            "align_items": null,
            "align_self": null,
            "border": null,
            "bottom": null,
            "display": null,
            "flex": null,
            "flex_flow": null,
            "grid_area": null,
            "grid_auto_columns": null,
            "grid_auto_flow": null,
            "grid_auto_rows": null,
            "grid_column": null,
            "grid_gap": null,
            "grid_row": null,
            "grid_template_areas": null,
            "grid_template_columns": null,
            "grid_template_rows": null,
            "height": null,
            "justify_content": null,
            "justify_items": null,
            "left": null,
            "margin": null,
            "max_height": null,
            "max_width": null,
            "min_height": null,
            "min_width": null,
            "object_fit": null,
            "object_position": null,
            "order": null,
            "overflow": null,
            "overflow_x": null,
            "overflow_y": null,
            "padding": null,
            "right": null,
            "top": null,
            "visibility": null,
            "width": null
          }
        },
        "c75b2ffec226485cbea6e1487943d504": {
          "model_module": "@jupyter-widgets/controls",
          "model_name": "ProgressStyleModel",
          "model_module_version": "1.5.0",
          "state": {
            "_model_module": "@jupyter-widgets/controls",
            "_model_module_version": "1.5.0",
            "_model_name": "ProgressStyleModel",
            "_view_count": null,
            "_view_module": "@jupyter-widgets/base",
            "_view_module_version": "1.2.0",
            "_view_name": "StyleView",
            "bar_color": null,
            "description_width": ""
          }
        },
        "eed5c9d10e0742aa9a2a044cdd8dbf3f": {
          "model_module": "@jupyter-widgets/base",
          "model_name": "LayoutModel",
          "model_module_version": "1.2.0",
          "state": {
            "_model_module": "@jupyter-widgets/base",
            "_model_module_version": "1.2.0",
            "_model_name": "LayoutModel",
            "_view_count": null,
            "_view_module": "@jupyter-widgets/base",
            "_view_module_version": "1.2.0",
            "_view_name": "LayoutView",
            "align_content": null,
            "align_items": null,
            "align_self": null,
            "border": null,
            "bottom": null,
            "display": null,
            "flex": null,
            "flex_flow": null,
            "grid_area": null,
            "grid_auto_columns": null,
            "grid_auto_flow": null,
            "grid_auto_rows": null,
            "grid_column": null,
            "grid_gap": null,
            "grid_row": null,
            "grid_template_areas": null,
            "grid_template_columns": null,
            "grid_template_rows": null,
            "height": null,
            "justify_content": null,
            "justify_items": null,
            "left": null,
            "margin": null,
            "max_height": null,
            "max_width": null,
            "min_height": null,
            "min_width": null,
            "object_fit": null,
            "object_position": null,
            "order": null,
            "overflow": null,
            "overflow_x": null,
            "overflow_y": null,
            "padding": null,
            "right": null,
            "top": null,
            "visibility": null,
            "width": null
          }
        },
        "97a1d65248eb45f8ac14b55cbf119f3e": {
          "model_module": "@jupyter-widgets/controls",
          "model_name": "DescriptionStyleModel",
          "model_module_version": "1.5.0",
          "state": {
            "_model_module": "@jupyter-widgets/controls",
            "_model_module_version": "1.5.0",
            "_model_name": "DescriptionStyleModel",
            "_view_count": null,
            "_view_module": "@jupyter-widgets/base",
            "_view_module_version": "1.2.0",
            "_view_name": "StyleView",
            "description_width": ""
          }
        },
        "d1410e62d1c942538a49988debd0bd34": {
          "model_module": "@jupyter-widgets/controls",
          "model_name": "HBoxModel",
          "model_module_version": "1.5.0",
          "state": {
            "_dom_classes": [],
            "_model_module": "@jupyter-widgets/controls",
            "_model_module_version": "1.5.0",
            "_model_name": "HBoxModel",
            "_view_count": null,
            "_view_module": "@jupyter-widgets/controls",
            "_view_module_version": "1.5.0",
            "_view_name": "HBoxView",
            "box_style": "",
            "children": [
              "IPY_MODEL_cfbe0f96567547d39d3567b37b8c0905",
              "IPY_MODEL_7268ec841c8046f0a7c7b0620a87df0d",
              "IPY_MODEL_55ee3230635546c09d645db288524708"
            ],
            "layout": "IPY_MODEL_73d7a40bebdf4331a10621b84ff3ad58"
          }
        },
        "cfbe0f96567547d39d3567b37b8c0905": {
          "model_module": "@jupyter-widgets/controls",
          "model_name": "HTMLModel",
          "model_module_version": "1.5.0",
          "state": {
            "_dom_classes": [],
            "_model_module": "@jupyter-widgets/controls",
            "_model_module_version": "1.5.0",
            "_model_name": "HTMLModel",
            "_view_count": null,
            "_view_module": "@jupyter-widgets/controls",
            "_view_module_version": "1.5.0",
            "_view_name": "HTMLView",
            "description": "",
            "description_tooltip": null,
            "layout": "IPY_MODEL_918be96d5315465db597eb367e5e37b0",
            "placeholder": "​",
            "style": "IPY_MODEL_9892b2c051284a76b276ad4c1fef3fe4",
            "value": "tokenizer_config.json: 100%"
          }
        },
        "7268ec841c8046f0a7c7b0620a87df0d": {
          "model_module": "@jupyter-widgets/controls",
          "model_name": "FloatProgressModel",
          "model_module_version": "1.5.0",
          "state": {
            "_dom_classes": [],
            "_model_module": "@jupyter-widgets/controls",
            "_model_module_version": "1.5.0",
            "_model_name": "FloatProgressModel",
            "_view_count": null,
            "_view_module": "@jupyter-widgets/controls",
            "_view_module_version": "1.5.0",
            "_view_name": "ProgressView",
            "bar_style": "success",
            "description": "",
            "description_tooltip": null,
            "layout": "IPY_MODEL_47e65b1e96cb42f8bcac420fe8f86840",
            "max": 1278,
            "min": 0,
            "orientation": "horizontal",
            "style": "IPY_MODEL_8dd6733281334557aff7318d95429a4e",
            "value": 1278
          }
        },
        "55ee3230635546c09d645db288524708": {
          "model_module": "@jupyter-widgets/controls",
          "model_name": "HTMLModel",
          "model_module_version": "1.5.0",
          "state": {
            "_dom_classes": [],
            "_model_module": "@jupyter-widgets/controls",
            "_model_module_version": "1.5.0",
            "_model_name": "HTMLModel",
            "_view_count": null,
            "_view_module": "@jupyter-widgets/controls",
            "_view_module_version": "1.5.0",
            "_view_name": "HTMLView",
            "description": "",
            "description_tooltip": null,
            "layout": "IPY_MODEL_d3aacc0a635e43139214c89f98a265bf",
            "placeholder": "​",
            "style": "IPY_MODEL_fb52bf8aed3446fdba53e707543170d1",
            "value": " 1.28k/1.28k [00:00&lt;00:00, 169kB/s]"
          }
        },
        "73d7a40bebdf4331a10621b84ff3ad58": {
          "model_module": "@jupyter-widgets/base",
          "model_name": "LayoutModel",
          "model_module_version": "1.2.0",
          "state": {
            "_model_module": "@jupyter-widgets/base",
            "_model_module_version": "1.2.0",
            "_model_name": "LayoutModel",
            "_view_count": null,
            "_view_module": "@jupyter-widgets/base",
            "_view_module_version": "1.2.0",
            "_view_name": "LayoutView",
            "align_content": null,
            "align_items": null,
            "align_self": null,
            "border": null,
            "bottom": null,
            "display": null,
            "flex": null,
            "flex_flow": null,
            "grid_area": null,
            "grid_auto_columns": null,
            "grid_auto_flow": null,
            "grid_auto_rows": null,
            "grid_column": null,
            "grid_gap": null,
            "grid_row": null,
            "grid_template_areas": null,
            "grid_template_columns": null,
            "grid_template_rows": null,
            "height": null,
            "justify_content": null,
            "justify_items": null,
            "left": null,
            "margin": null,
            "max_height": null,
            "max_width": null,
            "min_height": null,
            "min_width": null,
            "object_fit": null,
            "object_position": null,
            "order": null,
            "overflow": null,
            "overflow_x": null,
            "overflow_y": null,
            "padding": null,
            "right": null,
            "top": null,
            "visibility": null,
            "width": null
          }
        },
        "918be96d5315465db597eb367e5e37b0": {
          "model_module": "@jupyter-widgets/base",
          "model_name": "LayoutModel",
          "model_module_version": "1.2.0",
          "state": {
            "_model_module": "@jupyter-widgets/base",
            "_model_module_version": "1.2.0",
            "_model_name": "LayoutModel",
            "_view_count": null,
            "_view_module": "@jupyter-widgets/base",
            "_view_module_version": "1.2.0",
            "_view_name": "LayoutView",
            "align_content": null,
            "align_items": null,
            "align_self": null,
            "border": null,
            "bottom": null,
            "display": null,
            "flex": null,
            "flex_flow": null,
            "grid_area": null,
            "grid_auto_columns": null,
            "grid_auto_flow": null,
            "grid_auto_rows": null,
            "grid_column": null,
            "grid_gap": null,
            "grid_row": null,
            "grid_template_areas": null,
            "grid_template_columns": null,
            "grid_template_rows": null,
            "height": null,
            "justify_content": null,
            "justify_items": null,
            "left": null,
            "margin": null,
            "max_height": null,
            "max_width": null,
            "min_height": null,
            "min_width": null,
            "object_fit": null,
            "object_position": null,
            "order": null,
            "overflow": null,
            "overflow_x": null,
            "overflow_y": null,
            "padding": null,
            "right": null,
            "top": null,
            "visibility": null,
            "width": null
          }
        },
        "9892b2c051284a76b276ad4c1fef3fe4": {
          "model_module": "@jupyter-widgets/controls",
          "model_name": "DescriptionStyleModel",
          "model_module_version": "1.5.0",
          "state": {
            "_model_module": "@jupyter-widgets/controls",
            "_model_module_version": "1.5.0",
            "_model_name": "DescriptionStyleModel",
            "_view_count": null,
            "_view_module": "@jupyter-widgets/base",
            "_view_module_version": "1.2.0",
            "_view_name": "StyleView",
            "description_width": ""
          }
        },
        "47e65b1e96cb42f8bcac420fe8f86840": {
          "model_module": "@jupyter-widgets/base",
          "model_name": "LayoutModel",
          "model_module_version": "1.2.0",
          "state": {
            "_model_module": "@jupyter-widgets/base",
            "_model_module_version": "1.2.0",
            "_model_name": "LayoutModel",
            "_view_count": null,
            "_view_module": "@jupyter-widgets/base",
            "_view_module_version": "1.2.0",
            "_view_name": "LayoutView",
            "align_content": null,
            "align_items": null,
            "align_self": null,
            "border": null,
            "bottom": null,
            "display": null,
            "flex": null,
            "flex_flow": null,
            "grid_area": null,
            "grid_auto_columns": null,
            "grid_auto_flow": null,
            "grid_auto_rows": null,
            "grid_column": null,
            "grid_gap": null,
            "grid_row": null,
            "grid_template_areas": null,
            "grid_template_columns": null,
            "grid_template_rows": null,
            "height": null,
            "justify_content": null,
            "justify_items": null,
            "left": null,
            "margin": null,
            "max_height": null,
            "max_width": null,
            "min_height": null,
            "min_width": null,
            "object_fit": null,
            "object_position": null,
            "order": null,
            "overflow": null,
            "overflow_x": null,
            "overflow_y": null,
            "padding": null,
            "right": null,
            "top": null,
            "visibility": null,
            "width": null
          }
        },
        "8dd6733281334557aff7318d95429a4e": {
          "model_module": "@jupyter-widgets/controls",
          "model_name": "ProgressStyleModel",
          "model_module_version": "1.5.0",
          "state": {
            "_model_module": "@jupyter-widgets/controls",
            "_model_module_version": "1.5.0",
            "_model_name": "ProgressStyleModel",
            "_view_count": null,
            "_view_module": "@jupyter-widgets/base",
            "_view_module_version": "1.2.0",
            "_view_name": "StyleView",
            "bar_color": null,
            "description_width": ""
          }
        },
        "d3aacc0a635e43139214c89f98a265bf": {
          "model_module": "@jupyter-widgets/base",
          "model_name": "LayoutModel",
          "model_module_version": "1.2.0",
          "state": {
            "_model_module": "@jupyter-widgets/base",
            "_model_module_version": "1.2.0",
            "_model_name": "LayoutModel",
            "_view_count": null,
            "_view_module": "@jupyter-widgets/base",
            "_view_module_version": "1.2.0",
            "_view_name": "LayoutView",
            "align_content": null,
            "align_items": null,
            "align_self": null,
            "border": null,
            "bottom": null,
            "display": null,
            "flex": null,
            "flex_flow": null,
            "grid_area": null,
            "grid_auto_columns": null,
            "grid_auto_flow": null,
            "grid_auto_rows": null,
            "grid_column": null,
            "grid_gap": null,
            "grid_row": null,
            "grid_template_areas": null,
            "grid_template_columns": null,
            "grid_template_rows": null,
            "height": null,
            "justify_content": null,
            "justify_items": null,
            "left": null,
            "margin": null,
            "max_height": null,
            "max_width": null,
            "min_height": null,
            "min_width": null,
            "object_fit": null,
            "object_position": null,
            "order": null,
            "overflow": null,
            "overflow_x": null,
            "overflow_y": null,
            "padding": null,
            "right": null,
            "top": null,
            "visibility": null,
            "width": null
          }
        },
        "fb52bf8aed3446fdba53e707543170d1": {
          "model_module": "@jupyter-widgets/controls",
          "model_name": "DescriptionStyleModel",
          "model_module_version": "1.5.0",
          "state": {
            "_model_module": "@jupyter-widgets/controls",
            "_model_module_version": "1.5.0",
            "_model_name": "DescriptionStyleModel",
            "_view_count": null,
            "_view_module": "@jupyter-widgets/base",
            "_view_module_version": "1.2.0",
            "_view_name": "StyleView",
            "description_width": ""
          }
        },
        "5a4fddfe1815478e9456e5afca491733": {
          "model_module": "@jupyter-widgets/controls",
          "model_name": "HBoxModel",
          "model_module_version": "1.5.0",
          "state": {
            "_dom_classes": [],
            "_model_module": "@jupyter-widgets/controls",
            "_model_module_version": "1.5.0",
            "_model_name": "HBoxModel",
            "_view_count": null,
            "_view_module": "@jupyter-widgets/controls",
            "_view_module_version": "1.5.0",
            "_view_name": "HBoxView",
            "box_style": "",
            "children": [
              "IPY_MODEL_8ed16c7ff27048a892a7e1481188cda2",
              "IPY_MODEL_25bc402554004003a4eadff76058372a",
              "IPY_MODEL_ca85db3ec058432ba76e4c08322cc29e"
            ],
            "layout": "IPY_MODEL_d1108181991e4fcab9b869499fbb099c"
          }
        },
        "8ed16c7ff27048a892a7e1481188cda2": {
          "model_module": "@jupyter-widgets/controls",
          "model_name": "HTMLModel",
          "model_module_version": "1.5.0",
          "state": {
            "_dom_classes": [],
            "_model_module": "@jupyter-widgets/controls",
            "_model_module_version": "1.5.0",
            "_model_name": "HTMLModel",
            "_view_count": null,
            "_view_module": "@jupyter-widgets/controls",
            "_view_module_version": "1.5.0",
            "_view_name": "HTMLView",
            "description": "",
            "description_tooltip": null,
            "layout": "IPY_MODEL_00e6cb8f10a64ce593eae8b14a67f06e",
            "placeholder": "​",
            "style": "IPY_MODEL_9110e31aa3d544a6ae383c4cd095f8a1",
            "value": "vocab.txt: 100%"
          }
        },
        "25bc402554004003a4eadff76058372a": {
          "model_module": "@jupyter-widgets/controls",
          "model_name": "FloatProgressModel",
          "model_module_version": "1.5.0",
          "state": {
            "_dom_classes": [],
            "_model_module": "@jupyter-widgets/controls",
            "_model_module_version": "1.5.0",
            "_model_name": "FloatProgressModel",
            "_view_count": null,
            "_view_module": "@jupyter-widgets/controls",
            "_view_module_version": "1.5.0",
            "_view_name": "ProgressView",
            "bar_style": "success",
            "description": "",
            "description_tooltip": null,
            "layout": "IPY_MODEL_965ea88d4b58434695c3d01dcf23a435",
            "max": 231508,
            "min": 0,
            "orientation": "horizontal",
            "style": "IPY_MODEL_b42a58e85149407d9653166bd4de0366",
            "value": 231508
          }
        },
        "ca85db3ec058432ba76e4c08322cc29e": {
          "model_module": "@jupyter-widgets/controls",
          "model_name": "HTMLModel",
          "model_module_version": "1.5.0",
          "state": {
            "_dom_classes": [],
            "_model_module": "@jupyter-widgets/controls",
            "_model_module_version": "1.5.0",
            "_model_name": "HTMLModel",
            "_view_count": null,
            "_view_module": "@jupyter-widgets/controls",
            "_view_module_version": "1.5.0",
            "_view_name": "HTMLView",
            "description": "",
            "description_tooltip": null,
            "layout": "IPY_MODEL_b44673e85c8d4046839c31100b69bae9",
            "placeholder": "​",
            "style": "IPY_MODEL_050fd68c92f341e7a2e5f9cea4e67174",
            "value": " 232k/232k [00:00&lt;00:00, 6.32MB/s]"
          }
        },
        "d1108181991e4fcab9b869499fbb099c": {
          "model_module": "@jupyter-widgets/base",
          "model_name": "LayoutModel",
          "model_module_version": "1.2.0",
          "state": {
            "_model_module": "@jupyter-widgets/base",
            "_model_module_version": "1.2.0",
            "_model_name": "LayoutModel",
            "_view_count": null,
            "_view_module": "@jupyter-widgets/base",
            "_view_module_version": "1.2.0",
            "_view_name": "LayoutView",
            "align_content": null,
            "align_items": null,
            "align_self": null,
            "border": null,
            "bottom": null,
            "display": null,
            "flex": null,
            "flex_flow": null,
            "grid_area": null,
            "grid_auto_columns": null,
            "grid_auto_flow": null,
            "grid_auto_rows": null,
            "grid_column": null,
            "grid_gap": null,
            "grid_row": null,
            "grid_template_areas": null,
            "grid_template_columns": null,
            "grid_template_rows": null,
            "height": null,
            "justify_content": null,
            "justify_items": null,
            "left": null,
            "margin": null,
            "max_height": null,
            "max_width": null,
            "min_height": null,
            "min_width": null,
            "object_fit": null,
            "object_position": null,
            "order": null,
            "overflow": null,
            "overflow_x": null,
            "overflow_y": null,
            "padding": null,
            "right": null,
            "top": null,
            "visibility": null,
            "width": null
          }
        },
        "00e6cb8f10a64ce593eae8b14a67f06e": {
          "model_module": "@jupyter-widgets/base",
          "model_name": "LayoutModel",
          "model_module_version": "1.2.0",
          "state": {
            "_model_module": "@jupyter-widgets/base",
            "_model_module_version": "1.2.0",
            "_model_name": "LayoutModel",
            "_view_count": null,
            "_view_module": "@jupyter-widgets/base",
            "_view_module_version": "1.2.0",
            "_view_name": "LayoutView",
            "align_content": null,
            "align_items": null,
            "align_self": null,
            "border": null,
            "bottom": null,
            "display": null,
            "flex": null,
            "flex_flow": null,
            "grid_area": null,
            "grid_auto_columns": null,
            "grid_auto_flow": null,
            "grid_auto_rows": null,
            "grid_column": null,
            "grid_gap": null,
            "grid_row": null,
            "grid_template_areas": null,
            "grid_template_columns": null,
            "grid_template_rows": null,
            "height": null,
            "justify_content": null,
            "justify_items": null,
            "left": null,
            "margin": null,
            "max_height": null,
            "max_width": null,
            "min_height": null,
            "min_width": null,
            "object_fit": null,
            "object_position": null,
            "order": null,
            "overflow": null,
            "overflow_x": null,
            "overflow_y": null,
            "padding": null,
            "right": null,
            "top": null,
            "visibility": null,
            "width": null
          }
        },
        "9110e31aa3d544a6ae383c4cd095f8a1": {
          "model_module": "@jupyter-widgets/controls",
          "model_name": "DescriptionStyleModel",
          "model_module_version": "1.5.0",
          "state": {
            "_model_module": "@jupyter-widgets/controls",
            "_model_module_version": "1.5.0",
            "_model_name": "DescriptionStyleModel",
            "_view_count": null,
            "_view_module": "@jupyter-widgets/base",
            "_view_module_version": "1.2.0",
            "_view_name": "StyleView",
            "description_width": ""
          }
        },
        "965ea88d4b58434695c3d01dcf23a435": {
          "model_module": "@jupyter-widgets/base",
          "model_name": "LayoutModel",
          "model_module_version": "1.2.0",
          "state": {
            "_model_module": "@jupyter-widgets/base",
            "_model_module_version": "1.2.0",
            "_model_name": "LayoutModel",
            "_view_count": null,
            "_view_module": "@jupyter-widgets/base",
            "_view_module_version": "1.2.0",
            "_view_name": "LayoutView",
            "align_content": null,
            "align_items": null,
            "align_self": null,
            "border": null,
            "bottom": null,
            "display": null,
            "flex": null,
            "flex_flow": null,
            "grid_area": null,
            "grid_auto_columns": null,
            "grid_auto_flow": null,
            "grid_auto_rows": null,
            "grid_column": null,
            "grid_gap": null,
            "grid_row": null,
            "grid_template_areas": null,
            "grid_template_columns": null,
            "grid_template_rows": null,
            "height": null,
            "justify_content": null,
            "justify_items": null,
            "left": null,
            "margin": null,
            "max_height": null,
            "max_width": null,
            "min_height": null,
            "min_width": null,
            "object_fit": null,
            "object_position": null,
            "order": null,
            "overflow": null,
            "overflow_x": null,
            "overflow_y": null,
            "padding": null,
            "right": null,
            "top": null,
            "visibility": null,
            "width": null
          }
        },
        "b42a58e85149407d9653166bd4de0366": {
          "model_module": "@jupyter-widgets/controls",
          "model_name": "ProgressStyleModel",
          "model_module_version": "1.5.0",
          "state": {
            "_model_module": "@jupyter-widgets/controls",
            "_model_module_version": "1.5.0",
            "_model_name": "ProgressStyleModel",
            "_view_count": null,
            "_view_module": "@jupyter-widgets/base",
            "_view_module_version": "1.2.0",
            "_view_name": "StyleView",
            "bar_color": null,
            "description_width": ""
          }
        },
        "b44673e85c8d4046839c31100b69bae9": {
          "model_module": "@jupyter-widgets/base",
          "model_name": "LayoutModel",
          "model_module_version": "1.2.0",
          "state": {
            "_model_module": "@jupyter-widgets/base",
            "_model_module_version": "1.2.0",
            "_model_name": "LayoutModel",
            "_view_count": null,
            "_view_module": "@jupyter-widgets/base",
            "_view_module_version": "1.2.0",
            "_view_name": "LayoutView",
            "align_content": null,
            "align_items": null,
            "align_self": null,
            "border": null,
            "bottom": null,
            "display": null,
            "flex": null,
            "flex_flow": null,
            "grid_area": null,
            "grid_auto_columns": null,
            "grid_auto_flow": null,
            "grid_auto_rows": null,
            "grid_column": null,
            "grid_gap": null,
            "grid_row": null,
            "grid_template_areas": null,
            "grid_template_columns": null,
            "grid_template_rows": null,
            "height": null,
            "justify_content": null,
            "justify_items": null,
            "left": null,
            "margin": null,
            "max_height": null,
            "max_width": null,
            "min_height": null,
            "min_width": null,
            "object_fit": null,
            "object_position": null,
            "order": null,
            "overflow": null,
            "overflow_x": null,
            "overflow_y": null,
            "padding": null,
            "right": null,
            "top": null,
            "visibility": null,
            "width": null
          }
        },
        "050fd68c92f341e7a2e5f9cea4e67174": {
          "model_module": "@jupyter-widgets/controls",
          "model_name": "DescriptionStyleModel",
          "model_module_version": "1.5.0",
          "state": {
            "_model_module": "@jupyter-widgets/controls",
            "_model_module_version": "1.5.0",
            "_model_name": "DescriptionStyleModel",
            "_view_count": null,
            "_view_module": "@jupyter-widgets/base",
            "_view_module_version": "1.2.0",
            "_view_name": "StyleView",
            "description_width": ""
          }
        },
        "631e41f5ae9d4c68bca7e29ca099a06b": {
          "model_module": "@jupyter-widgets/controls",
          "model_name": "HBoxModel",
          "model_module_version": "1.5.0",
          "state": {
            "_dom_classes": [],
            "_model_module": "@jupyter-widgets/controls",
            "_model_module_version": "1.5.0",
            "_model_name": "HBoxModel",
            "_view_count": null,
            "_view_module": "@jupyter-widgets/controls",
            "_view_module_version": "1.5.0",
            "_view_name": "HBoxView",
            "box_style": "",
            "children": [
              "IPY_MODEL_09b7cdea642b42d299f1f30cc3ba2480",
              "IPY_MODEL_a4dabb2ff7a84474bd56307a18201937",
              "IPY_MODEL_2e14e10ea82348098889ab9bdeb77a17"
            ],
            "layout": "IPY_MODEL_a622b0dddf3d4c8b8bbc60057dd6ef69"
          }
        },
        "09b7cdea642b42d299f1f30cc3ba2480": {
          "model_module": "@jupyter-widgets/controls",
          "model_name": "HTMLModel",
          "model_module_version": "1.5.0",
          "state": {
            "_dom_classes": [],
            "_model_module": "@jupyter-widgets/controls",
            "_model_module_version": "1.5.0",
            "_model_name": "HTMLModel",
            "_view_count": null,
            "_view_module": "@jupyter-widgets/controls",
            "_view_module_version": "1.5.0",
            "_view_name": "HTMLView",
            "description": "",
            "description_tooltip": null,
            "layout": "IPY_MODEL_b0f705b20b1746cba54ee7d87bd19cba",
            "placeholder": "​",
            "style": "IPY_MODEL_5f44b839bbe34fa4a95acd2f3d2c1298",
            "value": "special_tokens_map.json: 100%"
          }
        },
        "a4dabb2ff7a84474bd56307a18201937": {
          "model_module": "@jupyter-widgets/controls",
          "model_name": "FloatProgressModel",
          "model_module_version": "1.5.0",
          "state": {
            "_dom_classes": [],
            "_model_module": "@jupyter-widgets/controls",
            "_model_module_version": "1.5.0",
            "_model_name": "FloatProgressModel",
            "_view_count": null,
            "_view_module": "@jupyter-widgets/controls",
            "_view_module_version": "1.5.0",
            "_view_name": "ProgressView",
            "bar_style": "success",
            "description": "",
            "description_tooltip": null,
            "layout": "IPY_MODEL_e9b2246caeb4462fa35a7b90f2392cb6",
            "max": 125,
            "min": 0,
            "orientation": "horizontal",
            "style": "IPY_MODEL_82d1381d8a5449bcad6a9ba4cc403f67",
            "value": 125
          }
        },
        "2e14e10ea82348098889ab9bdeb77a17": {
          "model_module": "@jupyter-widgets/controls",
          "model_name": "HTMLModel",
          "model_module_version": "1.5.0",
          "state": {
            "_dom_classes": [],
            "_model_module": "@jupyter-widgets/controls",
            "_model_module_version": "1.5.0",
            "_model_name": "HTMLModel",
            "_view_count": null,
            "_view_module": "@jupyter-widgets/controls",
            "_view_module_version": "1.5.0",
            "_view_name": "HTMLView",
            "description": "",
            "description_tooltip": null,
            "layout": "IPY_MODEL_e3643b78bbb6477fa46c5eb4566cc2a8",
            "placeholder": "​",
            "style": "IPY_MODEL_2bd5dbb40d4d4de09d30f53835ee81ff",
            "value": " 125/125 [00:00&lt;00:00, 14.6kB/s]"
          }
        },
        "a622b0dddf3d4c8b8bbc60057dd6ef69": {
          "model_module": "@jupyter-widgets/base",
          "model_name": "LayoutModel",
          "model_module_version": "1.2.0",
          "state": {
            "_model_module": "@jupyter-widgets/base",
            "_model_module_version": "1.2.0",
            "_model_name": "LayoutModel",
            "_view_count": null,
            "_view_module": "@jupyter-widgets/base",
            "_view_module_version": "1.2.0",
            "_view_name": "LayoutView",
            "align_content": null,
            "align_items": null,
            "align_self": null,
            "border": null,
            "bottom": null,
            "display": null,
            "flex": null,
            "flex_flow": null,
            "grid_area": null,
            "grid_auto_columns": null,
            "grid_auto_flow": null,
            "grid_auto_rows": null,
            "grid_column": null,
            "grid_gap": null,
            "grid_row": null,
            "grid_template_areas": null,
            "grid_template_columns": null,
            "grid_template_rows": null,
            "height": null,
            "justify_content": null,
            "justify_items": null,
            "left": null,
            "margin": null,
            "max_height": null,
            "max_width": null,
            "min_height": null,
            "min_width": null,
            "object_fit": null,
            "object_position": null,
            "order": null,
            "overflow": null,
            "overflow_x": null,
            "overflow_y": null,
            "padding": null,
            "right": null,
            "top": null,
            "visibility": null,
            "width": null
          }
        },
        "b0f705b20b1746cba54ee7d87bd19cba": {
          "model_module": "@jupyter-widgets/base",
          "model_name": "LayoutModel",
          "model_module_version": "1.2.0",
          "state": {
            "_model_module": "@jupyter-widgets/base",
            "_model_module_version": "1.2.0",
            "_model_name": "LayoutModel",
            "_view_count": null,
            "_view_module": "@jupyter-widgets/base",
            "_view_module_version": "1.2.0",
            "_view_name": "LayoutView",
            "align_content": null,
            "align_items": null,
            "align_self": null,
            "border": null,
            "bottom": null,
            "display": null,
            "flex": null,
            "flex_flow": null,
            "grid_area": null,
            "grid_auto_columns": null,
            "grid_auto_flow": null,
            "grid_auto_rows": null,
            "grid_column": null,
            "grid_gap": null,
            "grid_row": null,
            "grid_template_areas": null,
            "grid_template_columns": null,
            "grid_template_rows": null,
            "height": null,
            "justify_content": null,
            "justify_items": null,
            "left": null,
            "margin": null,
            "max_height": null,
            "max_width": null,
            "min_height": null,
            "min_width": null,
            "object_fit": null,
            "object_position": null,
            "order": null,
            "overflow": null,
            "overflow_x": null,
            "overflow_y": null,
            "padding": null,
            "right": null,
            "top": null,
            "visibility": null,
            "width": null
          }
        },
        "5f44b839bbe34fa4a95acd2f3d2c1298": {
          "model_module": "@jupyter-widgets/controls",
          "model_name": "DescriptionStyleModel",
          "model_module_version": "1.5.0",
          "state": {
            "_model_module": "@jupyter-widgets/controls",
            "_model_module_version": "1.5.0",
            "_model_name": "DescriptionStyleModel",
            "_view_count": null,
            "_view_module": "@jupyter-widgets/base",
            "_view_module_version": "1.2.0",
            "_view_name": "StyleView",
            "description_width": ""
          }
        },
        "e9b2246caeb4462fa35a7b90f2392cb6": {
          "model_module": "@jupyter-widgets/base",
          "model_name": "LayoutModel",
          "model_module_version": "1.2.0",
          "state": {
            "_model_module": "@jupyter-widgets/base",
            "_model_module_version": "1.2.0",
            "_model_name": "LayoutModel",
            "_view_count": null,
            "_view_module": "@jupyter-widgets/base",
            "_view_module_version": "1.2.0",
            "_view_name": "LayoutView",
            "align_content": null,
            "align_items": null,
            "align_self": null,
            "border": null,
            "bottom": null,
            "display": null,
            "flex": null,
            "flex_flow": null,
            "grid_area": null,
            "grid_auto_columns": null,
            "grid_auto_flow": null,
            "grid_auto_rows": null,
            "grid_column": null,
            "grid_gap": null,
            "grid_row": null,
            "grid_template_areas": null,
            "grid_template_columns": null,
            "grid_template_rows": null,
            "height": null,
            "justify_content": null,
            "justify_items": null,
            "left": null,
            "margin": null,
            "max_height": null,
            "max_width": null,
            "min_height": null,
            "min_width": null,
            "object_fit": null,
            "object_position": null,
            "order": null,
            "overflow": null,
            "overflow_x": null,
            "overflow_y": null,
            "padding": null,
            "right": null,
            "top": null,
            "visibility": null,
            "width": null
          }
        },
        "82d1381d8a5449bcad6a9ba4cc403f67": {
          "model_module": "@jupyter-widgets/controls",
          "model_name": "ProgressStyleModel",
          "model_module_version": "1.5.0",
          "state": {
            "_model_module": "@jupyter-widgets/controls",
            "_model_module_version": "1.5.0",
            "_model_name": "ProgressStyleModel",
            "_view_count": null,
            "_view_module": "@jupyter-widgets/base",
            "_view_module_version": "1.2.0",
            "_view_name": "StyleView",
            "bar_color": null,
            "description_width": ""
          }
        },
        "e3643b78bbb6477fa46c5eb4566cc2a8": {
          "model_module": "@jupyter-widgets/base",
          "model_name": "LayoutModel",
          "model_module_version": "1.2.0",
          "state": {
            "_model_module": "@jupyter-widgets/base",
            "_model_module_version": "1.2.0",
            "_model_name": "LayoutModel",
            "_view_count": null,
            "_view_module": "@jupyter-widgets/base",
            "_view_module_version": "1.2.0",
            "_view_name": "LayoutView",
            "align_content": null,
            "align_items": null,
            "align_self": null,
            "border": null,
            "bottom": null,
            "display": null,
            "flex": null,
            "flex_flow": null,
            "grid_area": null,
            "grid_auto_columns": null,
            "grid_auto_flow": null,
            "grid_auto_rows": null,
            "grid_column": null,
            "grid_gap": null,
            "grid_row": null,
            "grid_template_areas": null,
            "grid_template_columns": null,
            "grid_template_rows": null,
            "height": null,
            "justify_content": null,
            "justify_items": null,
            "left": null,
            "margin": null,
            "max_height": null,
            "max_width": null,
            "min_height": null,
            "min_width": null,
            "object_fit": null,
            "object_position": null,
            "order": null,
            "overflow": null,
            "overflow_x": null,
            "overflow_y": null,
            "padding": null,
            "right": null,
            "top": null,
            "visibility": null,
            "width": null
          }
        },
        "2bd5dbb40d4d4de09d30f53835ee81ff": {
          "model_module": "@jupyter-widgets/controls",
          "model_name": "DescriptionStyleModel",
          "model_module_version": "1.5.0",
          "state": {
            "_model_module": "@jupyter-widgets/controls",
            "_model_module_version": "1.5.0",
            "_model_name": "DescriptionStyleModel",
            "_view_count": null,
            "_view_module": "@jupyter-widgets/base",
            "_view_module_version": "1.2.0",
            "_view_name": "StyleView",
            "description_width": ""
          }
        }
      }
    }
  },
  "nbformat": 4,
  "nbformat_minor": 0
}